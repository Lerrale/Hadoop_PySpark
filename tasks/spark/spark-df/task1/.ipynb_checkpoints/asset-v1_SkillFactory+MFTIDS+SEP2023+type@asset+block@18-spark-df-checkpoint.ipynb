{
 "cells": [
  {
   "cell_type": "markdown",
   "metadata": {},
   "source": [
    "### Чем плох RDD\n",
    "\n",
    "1. Данные рассматриваются как текстовые файлы (или бинарники), разделённые по строкам. Про структуру данных ничего не знаем.\n",
    "  * Каждая задача начинается с парсинга структуры.\n",
    "  * Иногда нужно работать со столбцами, а не хранить все строки.\n",
    "2. Неудобно. Хочется что-то похожее на SQL и / или pandasю\n",
    "\n",
    "### Dataframes\n",
    "* Похожи на DF в pandas или SQL.\n",
    "* Работают поверх RDD."
   ]
  },
  {
   "cell_type": "markdown",
   "metadata": {},
   "source": [
    "##### Создаем Spark сессию\n",
    "\n",
    "`.getOrCreate()` - сессия (также как и SparkContext) в рамках приложения существует как Singleton."
   ]
  },
  {
   "cell_type": "code",
   "execution_count": 2,
   "metadata": {},
   "outputs": [],
   "source": [
    "from pyspark.sql import SparkSession\n",
    "spark = SparkSession.builder.appName('Spark DF practice').master('yarn').getOrCreate()"
   ]
  },
  {
   "cell_type": "markdown",
   "metadata": {},
   "source": [
    "Если работаем с DF, используем SparkSession"
   ]
  },
  {
   "cell_type": "code",
   "execution_count": 3,
   "metadata": {},
   "outputs": [
    {
     "data": {
      "text/html": [
       "\n",
       "            <div>\n",
       "                <p><b>SparkSession - hive</b></p>\n",
       "                \n",
       "        <div>\n",
       "            <p><b>SparkContext</b></p>\n",
       "\n",
       "            <p><a href=\"http://rc1a-dataproc-m-w2g5u4kysb9kq1q0.mdb.yandexcloud.net:4040\">Spark UI</a></p>\n",
       "\n",
       "            <dl>\n",
       "              <dt>Version</dt>\n",
       "                <dd><code>v3.0.3</code></dd>\n",
       "              <dt>Master</dt>\n",
       "                <dd><code>yarn</code></dd>\n",
       "              <dt>AppName</dt>\n",
       "                <dd><code>PySparkShell</code></dd>\n",
       "            </dl>\n",
       "        </div>\n",
       "        \n",
       "            </div>\n",
       "        "
      ],
      "text/plain": [
       "<pyspark.sql.session.SparkSession at 0x7fc3d1aa07f0>"
      ]
     },
     "execution_count": 3,
     "metadata": {},
     "output_type": "execute_result"
    }
   ],
   "source": [
    "spark"
   ]
  },
  {
   "cell_type": "markdown",
   "metadata": {},
   "source": [
    "Если нужно RDD - используем SparkContext. Он находится внутри SparkSession."
   ]
  },
  {
   "cell_type": "code",
   "execution_count": 4,
   "metadata": {},
   "outputs": [
    {
     "data": {
      "text/html": [
       "\n",
       "        <div>\n",
       "            <p><b>SparkContext</b></p>\n",
       "\n",
       "            <p><a href=\"http://rc1a-dataproc-m-w2g5u4kysb9kq1q0.mdb.yandexcloud.net:4040\">Spark UI</a></p>\n",
       "\n",
       "            <dl>\n",
       "              <dt>Version</dt>\n",
       "                <dd><code>v3.0.3</code></dd>\n",
       "              <dt>Master</dt>\n",
       "                <dd><code>yarn</code></dd>\n",
       "              <dt>AppName</dt>\n",
       "                <dd><code>PySparkShell</code></dd>\n",
       "            </dl>\n",
       "        </div>\n",
       "        "
      ],
      "text/plain": [
       "<SparkContext master=yarn appName=PySparkShell>"
      ]
     },
     "execution_count": 4,
     "metadata": {},
     "output_type": "execute_result"
    }
   ],
   "source": [
    "spark.sparkContext  # или просто `sc`"
   ]
  },
  {
   "cell_type": "markdown",
   "metadata": {},
   "source": [
    "## Создание DF"
   ]
  },
  {
   "cell_type": "markdown",
   "metadata": {
    "collapsed": true
   },
   "source": [
    "### Читаем данные из источника"
   ]
  },
  {
   "cell_type": "code",
   "execution_count": 5,
   "metadata": {},
   "outputs": [
    {
     "name": "stdout",
     "output_type": "stream",
     "text": [
      "CPU times: user 1.11 ms, sys: 3.73 ms, total: 4.85 ms\n",
      "Wall time: 22.3 s\n"
     ]
    }
   ],
   "source": [
    "%%time\n",
    "df = (spark.read.format(\"json\")\n",
    "    .load(\"/data/yelp/review\")\n",
    ")"
   ]
  },
  {
   "cell_type": "markdown",
   "metadata": {},
   "source": [
    "`options` очень много. Подробнее можно прочесть [здесь](https://spark.apache.org/docs/2.4.4/api/java/org/apache/spark/sql/DataFrameReader.html#option-java.lang.String-java.lang.String-) для каждого формата."
   ]
  },
  {
   "cell_type": "markdown",
   "metadata": {},
   "source": [
    "Почему код так долго выполняется? Почему по логике так быть не должно?"
   ]
  },
  {
   "cell_type": "code",
   "execution_count": 6,
   "metadata": {},
   "outputs": [
    {
     "data": {
      "text/plain": [
       "DataFrame[business_id: string, cool: bigint, date: string, funny: bigint, review_id: string, stars: double, text: string, useful: bigint, user_id: string]"
      ]
     },
     "execution_count": 6,
     "metadata": {},
     "output_type": "execute_result"
    }
   ],
   "source": [
    "df # видим струтуру"
   ]
  },
  {
   "cell_type": "code",
   "execution_count": 7,
   "metadata": {},
   "outputs": [
    {
     "name": "stdout",
     "output_type": "stream",
     "text": [
      "root\n",
      " |-- business_id: string (nullable = true)\n",
      " |-- cool: long (nullable = true)\n",
      " |-- date: string (nullable = true)\n",
      " |-- funny: long (nullable = true)\n",
      " |-- review_id: string (nullable = true)\n",
      " |-- stars: double (nullable = true)\n",
      " |-- text: string (nullable = true)\n",
      " |-- useful: long (nullable = true)\n",
      " |-- user_id: string (nullable = true)\n",
      "\n"
     ]
    }
   ],
   "source": [
    "df.printSchema()"
   ]
  },
  {
   "cell_type": "markdown",
   "metadata": {},
   "source": [
    "Проверим схему данных"
   ]
  },
  {
   "cell_type": "code",
   "execution_count": 9,
   "metadata": {},
   "outputs": [
    {
     "name": "stdout",
     "output_type": "stream",
     "text": [
      "+--------------------+----+-------------------+-----+--------------------+-----+--------------------+------+--------------------+\n",
      "|         business_id|cool|               date|funny|           review_id|stars|                text|useful|             user_id|\n",
      "+--------------------+----+-------------------+-----+--------------------+-----+--------------------+------+--------------------+\n",
      "|XQfwVwDr-v0ZS3_Cb...|   0|2018-07-07 22:09:11|    0|KU_O5udG6zpxOg-Vc...|  3.0|If you decide to ...|     0|mh_-eMZ6K5RLWhZyI...|\n",
      "+--------------------+----+-------------------+-----+--------------------+-----+--------------------+------+--------------------+\n",
      "only showing top 1 row\n",
      "\n"
     ]
    }
   ],
   "source": [
    "df.show(1)"
   ]
  },
  {
   "cell_type": "markdown",
   "metadata": {},
   "source": [
    "Можно задавать схему данных для текстовых форматов (мы указали формат json, поэтому схема автоматически была прочитана)"
   ]
  },
  {
   "cell_type": "code",
   "execution_count": 10,
   "metadata": {},
   "outputs": [],
   "source": [
    "# # Для каждого поля пишем название, тип и ещё можно указать Nullable\n",
    "# from pyspark.sql.types import *\n",
    "# schema = StructType(fields=[\n",
    "#     StructField(\"user_id\", IntegerType()),\n",
    "#     StructField(\"age\", IntegerType()),\n",
    "#     StructField(\"gender\", StringType()),\n",
    "#     StructField(\"occupation\", StringType()),\n",
    "#     StructField(\"zip\", IntegerType())\n",
    "# ])"
   ]
  },
  {
   "cell_type": "markdown",
   "metadata": {},
   "source": [
    "Есть трансформация `summary`, кот. аналогично pandas, выводит статистику. Это трансформация => для работы нужно вызвать action (show)"
   ]
  },
  {
   "cell_type": "code",
   "execution_count": 11,
   "metadata": {},
   "outputs": [
    {
     "name": "stdout",
     "output_type": "stream",
     "text": [
      "+-------+--------------------+------------------+-------------------+-------------------+--------------------+------------------+----------------------+------------------+--------------------+\n",
      "|summary|         business_id|              cool|               date|              funny|           review_id|             stars|                  text|            useful|             user_id|\n",
      "+-------+--------------------+------------------+-------------------+-------------------+--------------------+------------------+----------------------+------------------+--------------------+\n",
      "|  count|             6990280|           6990280|            6990280|            6990280|             6990280|           6990280|               6990280|           6990280|             6990280|\n",
      "|   mean|                null|0.4986175088837643|               null|0.32655959417934616|                null|  3.74858374771826|                  null|1.1846089140921394|                null|\n",
      "| stddev|                null| 2.172459820211187|               null| 1.6887290985540495|                null|1.4787045052556858|                  null| 3.253766966933363|                null|\n",
      "|    min|---kPU91CF4Lq2-Wl...|                -1|2005-02-16 03:23:22|                 -1|---4VcQZzy_vIIifU...|               1.0|  !\n",
      "Milk Bar is poi...|                -1|---1lKK3aKOuomHnw...|\n",
      "|    25%|                null|                 0|               null|                  0|                null|               3.0|                  null|                 0|                null|\n",
      "|    50%|                null|                 0|               null|                  0|                null|               4.0|                  null|                 0|                null|\n",
      "|    75%|                null|                 0|               null|                  0|                null|               5.0|                  null|                 1|                null|\n",
      "|    max|zzyx5x0Z7xXWWvWnZ...|               404|2022-01-19 19:48:45|                792|zzzz1ADBqBEVyfX4l...|               5.0|＼(^o^)／\n",
      "They have...|              1182|zzzUFM4HFe0SFG0bP...|\n",
      "+-------+--------------------+------------------+-------------------+-------------------+--------------------+------------------+----------------------+------------------+--------------------+\n",
      "\n"
     ]
    }
   ],
   "source": [
    "df.summary().show(10)"
   ]
  },
  {
   "cell_type": "markdown",
   "metadata": {},
   "source": [
    "### Преобразование из RDD"
   ]
  },
  {
   "cell_type": "code",
   "execution_count": 12,
   "metadata": {},
   "outputs": [],
   "source": [
    "#RDD разделители внутри строк не видит, нужно парсить\n",
    "\n",
    "import json\n",
    "rdd = sc.textFile(\"/data/yelp/review\").map(lambda x: json.loads(x))"
   ]
  },
  {
   "cell_type": "code",
   "execution_count": 13,
   "metadata": {},
   "outputs": [
    {
     "data": {
      "text/plain": [
       "[{'review_id': 'KU_O5udG6zpxOg-VcAEodg',\n",
       "  'user_id': 'mh_-eMZ6K5RLWhZyISBhwA',\n",
       "  'business_id': 'XQfwVwDr-v0ZS3_CbbE5Xw',\n",
       "  'stars': 3.0,\n",
       "  'useful': 0,\n",
       "  'funny': 0,\n",
       "  'cool': 0,\n",
       "  'text': \"If you decide to eat here, just be aware it is going to take about 2 hours from beginning to end. We have tried it multiple times, because I want to like it! I have been to it's other locations in NJ and never had a bad experience. \\n\\nThe food is good, but it takes a very long time to come out. The waitstaff is very young, but usually pleasant. We have just had too many experiences where we spent way too long waiting. We usually opt for another diner or restaurant on the weekends, in order to be done quicker.\",\n",
       "  'date': '2018-07-07 22:09:11'},\n",
       " {'review_id': 'BiTunyQ73aT9WBnpR9DZGw',\n",
       "  'user_id': 'OyoGAe7OKpv6SyGZT5g77Q',\n",
       "  'business_id': '7ATYjTIgM3jUlt4UM3IypQ',\n",
       "  'stars': 5.0,\n",
       "  'useful': 1,\n",
       "  'funny': 0,\n",
       "  'cool': 1,\n",
       "  'text': \"I've taken a lot of spin classes over the years, and nothing compares to the classes at Body Cycle. From the nice, clean space and amazing bikes, to the welcoming and motivating instructors, every class is a top notch work out.\\n\\nFor anyone who struggles to fit workouts in, the online scheduling system makes it easy to plan ahead (and there's no need to line up way in advanced like many gyms make you do).\\n\\nThere is no way I can write this review without giving Russell, the owner of Body Cycle, a shout out. Russell's passion for fitness and cycling is so evident, as is his desire for all of his clients to succeed. He is always dropping in to classes to check in/provide encouragement, and is open to ideas and recommendations from anyone. Russell always wears a smile on his face, even when he's kicking your butt in class!\",\n",
       "  'date': '2012-01-03 15:28:18'},\n",
       " {'review_id': 'saUsX_uimxRlCVr67Z4Jig',\n",
       "  'user_id': '8g_iMtfSiwikVnbP2etR0A',\n",
       "  'business_id': 'YjUWPpI6HXG530lwP-fb2A',\n",
       "  'stars': 3.0,\n",
       "  'useful': 0,\n",
       "  'funny': 0,\n",
       "  'cool': 0,\n",
       "  'text': 'Family diner. Had the buffet. Eclectic assortment: a large chicken leg, fried jalapeño, tamale, two rolled grape leaves, fresh melon. All good. Lots of Mexican choices there. Also has a menu with breakfast served all day long. Friendly, attentive staff. Good place for a casual relaxed meal with no expectations. Next to the Clarion Hotel.',\n",
       "  'date': '2014-02-05 20:30:30'},\n",
       " {'review_id': 'AqPFMleE6RsU23_auESxiA',\n",
       "  'user_id': '_7bHUi9Uuf5__HHc_Q8guQ',\n",
       "  'business_id': 'kxX2SOes4o-D3ZQBkiMRfA',\n",
       "  'stars': 5.0,\n",
       "  'useful': 1,\n",
       "  'funny': 0,\n",
       "  'cool': 1,\n",
       "  'text': \"Wow!  Yummy, different,  delicious.   Our favorite is the lamb curry and korma.  With 10 different kinds of naan!!!  Don't let the outside deter you (because we almost changed our minds)...go in and try something new!   You'll be glad you did!\",\n",
       "  'date': '2015-01-04 00:01:03'},\n",
       " {'review_id': 'Sx8TMOWLNuJBWer-0pcmoA',\n",
       "  'user_id': 'bcjbaE6dDog4jkNY91ncLQ',\n",
       "  'business_id': 'e4Vwtrqf-wpJfwesgvdgxQ',\n",
       "  'stars': 4.0,\n",
       "  'useful': 1,\n",
       "  'funny': 0,\n",
       "  'cool': 1,\n",
       "  'text': \"Cute interior and owner (?) gave us tour of upcoming patio/rooftop area which will be great on beautiful days like today. Cheese curds were very good and very filling. Really like that sandwiches come w salad, esp after eating too many curds! Had the onion, gruyere, tomato sandwich. Wasn't too much cheese which I liked. Needed something else...pepper jelly maybe. Would like to see more menu options added such as salads w fun cheeses. Lots of beer and wine as well as limited cocktails. Next time I will try one of the draft wines.\",\n",
       "  'date': '2017-01-14 20:54:15'}]"
      ]
     },
     "execution_count": 13,
     "metadata": {},
     "output_type": "execute_result"
    }
   ],
   "source": [
    "rdd.take(5)"
   ]
  },
  {
   "cell_type": "code",
   "execution_count": 14,
   "metadata": {},
   "outputs": [
    {
     "name": "stdout",
     "output_type": "stream",
     "text": [
      "CPU times: user 204 ms, sys: 40.4 ms, total: 244 ms\n",
      "Wall time: 1.15 s\n"
     ]
    },
    {
     "name": "stderr",
     "output_type": "stream",
     "text": [
      "/usr/lib/spark/python/pyspark/sql/session.py:401: UserWarning: Using RDD of dict to inferSchema is deprecated. Use pyspark.sql.Row instead\n",
      "  warnings.warn(\"Using RDD of dict to inferSchema is deprecated. \"\n"
     ]
    }
   ],
   "source": [
    "%%time\n",
    "#Конвертируем в DF\n",
    "df = spark.createDataFrame(rdd)"
   ]
  },
  {
   "cell_type": "code",
   "execution_count": 16,
   "metadata": {},
   "outputs": [
    {
     "name": "stdout",
     "output_type": "stream",
     "text": [
      "+--------------------+----+-------------------+-----+--------------------+-----+--------------------+------+--------------------+\n",
      "|         business_id|cool|               date|funny|           review_id|stars|                text|useful|             user_id|\n",
      "+--------------------+----+-------------------+-----+--------------------+-----+--------------------+------+--------------------+\n",
      "|XQfwVwDr-v0ZS3_Cb...|   0|2018-07-07 22:09:11|    0|KU_O5udG6zpxOg-Vc...|  3.0|If you decide to ...|     0|mh_-eMZ6K5RLWhZyI...|\n",
      "|7ATYjTIgM3jUlt4UM...|   1|2012-01-03 15:28:18|    0|BiTunyQ73aT9WBnpR...|  5.0|I've taken a lot ...|     1|OyoGAe7OKpv6SyGZT...|\n",
      "|YjUWPpI6HXG530lwP...|   0|2014-02-05 20:30:30|    0|saUsX_uimxRlCVr67...|  3.0|Family diner. Had...|     0|8g_iMtfSiwikVnbP2...|\n",
      "|kxX2SOes4o-D3ZQBk...|   1|2015-01-04 00:01:03|    0|AqPFMleE6RsU23_au...|  5.0|Wow!  Yummy, diff...|     1|_7bHUi9Uuf5__HHc_...|\n",
      "|e4Vwtrqf-wpJfwesg...|   1|2017-01-14 20:54:15|    0|Sx8TMOWLNuJBWer-0...|  4.0|Cute interior and...|     1|bcjbaE6dDog4jkNY9...|\n",
      "|04UD14gamNjLY0IDY...|   1|2015-09-23 23:10:31|    2|JrIxlS1TzJ-iCu79u...|  1.0|I am a long term ...|     1|eUta8W_HdHMXPzLBB...|\n",
      "|gmjsEdUsKpj9Xxu6p...|   0|2015-01-03 23:21:18|    2|6AxgBCNX_PNTOxmbR...|  5.0|Loved this tour! ...|     0|r3zeYsv1XFBRA4dJp...|\n",
      "|LHSTtnW3YHCeUkRDG...|   0|2015-08-07 02:29:16|    0|_ZeMknuYdlQcUqng_...|  5.0|Amazingly amazing...|     2|yfFzsLmaWF2d4Sr0U...|\n",
      "|B5XSoSG3SfvQGtKEG...|   0|2016-03-30 22:46:33|    1|ZKvDG2sBvHVdF5oBN...|  3.0|This easter inste...|     1|wSTuiTk-sKNdcFypr...|\n",
      "|gebiRewfieSdtt17P...|   0|2016-07-25 07:31:06|    0|pUycOfUwM8vqX7KjR...|  3.0|Had a party of 6 ...|     0|59MxRhNVhU9MYndMk...|\n",
      "+--------------------+----+-------------------+-----+--------------------+-----+--------------------+------+--------------------+\n",
      "only showing top 10 rows\n",
      "\n"
     ]
    }
   ],
   "source": [
    "df.show(10)"
   ]
  },
  {
   "cell_type": "code",
   "execution_count": 17,
   "metadata": {},
   "outputs": [
    {
     "data": {
      "text/plain": [
       "StructType(List(StructField(business_id,StringType,true),StructField(cool,LongType,true),StructField(date,StringType,true),StructField(funny,LongType,true),StructField(review_id,StringType,true),StructField(stars,DoubleType,true),StructField(text,StringType,true),StructField(useful,LongType,true),StructField(user_id,StringType,true)))"
      ]
     },
     "execution_count": 17,
     "metadata": {},
     "output_type": "execute_result"
    }
   ],
   "source": [
    "df.schema"
   ]
  },
  {
   "cell_type": "markdown",
   "metadata": {},
   "source": [
    "Визуальное отображение схемы"
   ]
  },
  {
   "cell_type": "code",
   "execution_count": 18,
   "metadata": {},
   "outputs": [
    {
     "name": "stdout",
     "output_type": "stream",
     "text": [
      "-RECORD 0--------------------------------------------------------------------------------------------------------------------------------------------------------------------------------------------------------------------------------------------------------------------------------------------------------------------------------------------------------------------------------------------------------------------------------------------------------------------------------------------------------------------------------------------------------------------------------------------------------------------------------------------------------------------------------------------------------------------------------------------------------------------------------------------------------------------------------------------------------------------\n",
      " business_id | XQfwVwDr-v0ZS3_CbbE5Xw                                                                                                                                                                                                                                                                                                                                                                                                                                                                                                                                                                                                                                                                                                                                                                                                                                        \n",
      " cool        | 0                                                                                                                                                                                                                                                                                                                                                                                                                                                                                                                                                                                                                                                                                                                                                                                                                                                             \n",
      " date        | 2018-07-07 22:09:11                                                                                                                                                                                                                                                                                                                                                                                                                                                                                                                                                                                                                                                                                                                                                                                                                                           \n",
      " funny       | 0                                                                                                                                                                                                                                                                                                                                                                                                                                                                                                                                                                                                                                                                                                                                                                                                                                                             \n",
      " review_id   | KU_O5udG6zpxOg-VcAEodg                                                                                                                                                                                                                                                                                                                                                                                                                                                                                                                                                                                                                                                                                                                                                                                                                                        \n",
      " stars       | 3.0                                                                                                                                                                                                                                                                                                                                                                                                                                                                                                                                                                                                                                                                                                                                                                                                                                                           \n",
      " text        | If you decide to eat here, just be aware it is going to take about 2 hours from beginning to end. We have tried it multiple times, because I want to like it! I have been to it's other locations in NJ and never had a bad experience. \n",
      "\n",
      "The food is good, but it takes a very long time to come out. The waitstaff is very young, but usually pleasant. We have just had too many experiences where we spent way too long waiting. We usually opt for another diner or restaurant on the weekends, in order to be done quicker.                                                                                                                                                                                                                                                                                                                             \n",
      " useful      | 0                                                                                                                                                                                                                                                                                                                                                                                                                                                                                                                                                                                                                                                                                                                                                                                                                                                             \n",
      " user_id     | mh_-eMZ6K5RLWhZyISBhwA                                                                                                                                                                                                                                                                                                                                                                                                                                                                                                                                                                                                                                                                                                                                                                                                                                        \n",
      "-RECORD 1--------------------------------------------------------------------------------------------------------------------------------------------------------------------------------------------------------------------------------------------------------------------------------------------------------------------------------------------------------------------------------------------------------------------------------------------------------------------------------------------------------------------------------------------------------------------------------------------------------------------------------------------------------------------------------------------------------------------------------------------------------------------------------------------------------------------------------------------------------------------\n",
      " business_id | 7ATYjTIgM3jUlt4UM3IypQ                                                                                                                                                                                                                                                                                                                                                                                                                                                                                                                                                                                                                                                                                                                                                                                                                                        \n",
      " cool        | 1                                                                                                                                                                                                                                                                                                                                                                                                                                                                                                                                                                                                                                                                                                                                                                                                                                                             \n",
      " date        | 2012-01-03 15:28:18                                                                                                                                                                                                                                                                                                                                                                                                                                                                                                                                                                                                                                                                                                                                                                                                                                           \n",
      " funny       | 0                                                                                                                                                                                                                                                                                                                                                                                                                                                                                                                                                                                                                                                                                                                                                                                                                                                             \n",
      " review_id   | BiTunyQ73aT9WBnpR9DZGw                                                                                                                                                                                                                                                                                                                                                                                                                                                                                                                                                                                                                                                                                                                                                                                                                                        \n",
      " stars       | 5.0                                                                                                                                                                                                                                                                                                                                                                                                                                                                                                                                                                                                                                                                                                                                                                                                                                                           \n",
      " text        | I've taken a lot of spin classes over the years, and nothing compares to the classes at Body Cycle. From the nice, clean space and amazing bikes, to the welcoming and motivating instructors, every class is a top notch work out.\n",
      "\n",
      "For anyone who struggles to fit workouts in, the online scheduling system makes it easy to plan ahead (and there's no need to line up way in advanced like many gyms make you do).\n",
      "\n",
      "There is no way I can write this review without giving Russell, the owner of Body Cycle, a shout out. Russell's passion for fitness and cycling is so evident, as is his desire for all of his clients to succeed. He is always dropping in to classes to check in/provide encouragement, and is open to ideas and recommendations from anyone. Russell always wears a smile on his face, even when he's kicking your butt in class! \n",
      " useful      | 1                                                                                                                                                                                                                                                                                                                                                                                                                                                                                                                                                                                                                                                                                                                                                                                                                                                             \n",
      " user_id     | OyoGAe7OKpv6SyGZT5g77Q                                                                                                                                                                                                                                                                                                                                                                                                                                                                                                                                                                                                                                                                                                                                                                                                                                        \n",
      "-RECORD 2--------------------------------------------------------------------------------------------------------------------------------------------------------------------------------------------------------------------------------------------------------------------------------------------------------------------------------------------------------------------------------------------------------------------------------------------------------------------------------------------------------------------------------------------------------------------------------------------------------------------------------------------------------------------------------------------------------------------------------------------------------------------------------------------------------------------------------------------------------------------\n",
      " business_id | YjUWPpI6HXG530lwP-fb2A                                                                                                                                                                                                                                                                                                                                                                                                                                                                                                                                                                                                                                                                                                                                                                                                                                        \n",
      " cool        | 0                                                                                                                                                                                                                                                                                                                                                                                                                                                                                                                                                                                                                                                                                                                                                                                                                                                             \n",
      " date        | 2014-02-05 20:30:30                                                                                                                                                                                                                                                                                                                                                                                                                                                                                                                                                                                                                                                                                                                                                                                                                                           \n",
      " funny       | 0                                                                                                                                                                                                                                                                                                                                                                                                                                                                                                                                                                                                                                                                                                                                                                                                                                                             \n",
      " review_id   | saUsX_uimxRlCVr67Z4Jig                                                                                                                                                                                                                                                                                                                                                                                                                                                                                                                                                                                                                                                                                                                                                                                                                                        \n",
      " stars       | 3.0                                                                                                                                                                                                                                                                                                                                                                                                                                                                                                                                                                                                                                                                                                                                                                                                                                                           \n",
      " text        | Family diner. Had the buffet. Eclectic assortment: a large chicken leg, fried jalapeño, tamale, two rolled grape leaves, fresh melon. All good. Lots of Mexican choices there. Also has a menu with breakfast served all day long. Friendly, attentive staff. Good place for a casual relaxed meal with no expectations. Next to the Clarion Hotel.                                                                                                                                                                                                                                                                                                                                                                                                                                                                                                           \n",
      " useful      | 0                                                                                                                                                                                                                                                                                                                                                                                                                                                                                                                                                                                                                                                                                                                                                                                                                                                             \n",
      " user_id     | 8g_iMtfSiwikVnbP2etR0A                                                                                                                                                                                                                                                                                                                                                                                                                                                                                                                                                                                                                                                                                                                                                                                                                                        \n",
      "-RECORD 3--------------------------------------------------------------------------------------------------------------------------------------------------------------------------------------------------------------------------------------------------------------------------------------------------------------------------------------------------------------------------------------------------------------------------------------------------------------------------------------------------------------------------------------------------------------------------------------------------------------------------------------------------------------------------------------------------------------------------------------------------------------------------------------------------------------------------------------------------------------------\n",
      " business_id | kxX2SOes4o-D3ZQBkiMRfA                                                                                                                                                                                                                                                                                                                                                                                                                                                                                                                                                                                                                                                                                                                                                                                                                                        \n",
      " cool        | 1                                                                                                                                                                                                                                                                                                                                                                                                                                                                                                                                                                                                                                                                                                                                                                                                                                                             \n",
      " date        | 2015-01-04 00:01:03                                                                                                                                                                                                                                                                                                                                                                                                                                                                                                                                                                                                                                                                                                                                                                                                                                           \n",
      " funny       | 0                                                                                                                                                                                                                                                                                                                                                                                                                                                                                                                                                                                                                                                                                                                                                                                                                                                             \n",
      " review_id   | AqPFMleE6RsU23_auESxiA                                                                                                                                                                                                                                                                                                                                                                                                                                                                                                                                                                                                                                                                                                                                                                                                                                        \n",
      " stars       | 5.0                                                                                                                                                                                                                                                                                                                                                                                                                                                                                                                                                                                                                                                                                                                                                                                                                                                           \n",
      " text        | Wow!  Yummy, different,  delicious.   Our favorite is the lamb curry and korma.  With 10 different kinds of naan!!!  Don't let the outside deter you (because we almost changed our minds)...go in and try something new!   You'll be glad you did!                                                                                                                                                                                                                                                                                                                                                                                                                                                                                                                                                                                                           \n",
      " useful      | 1                                                                                                                                                                                                                                                                                                                                                                                                                                                                                                                                                                                                                                                                                                                                                                                                                                                             \n",
      " user_id     | _7bHUi9Uuf5__HHc_Q8guQ                                                                                                                                                                                                                                                                                                                                                                                                                                                                                                                                                                                                                                                                                                                                                                                                                                        \n",
      "-RECORD 4--------------------------------------------------------------------------------------------------------------------------------------------------------------------------------------------------------------------------------------------------------------------------------------------------------------------------------------------------------------------------------------------------------------------------------------------------------------------------------------------------------------------------------------------------------------------------------------------------------------------------------------------------------------------------------------------------------------------------------------------------------------------------------------------------------------------------------------------------------------------\n",
      " business_id | e4Vwtrqf-wpJfwesgvdgxQ                                                                                                                                                                                                                                                                                                                                                                                                                                                                                                                                                                                                                                                                                                                                                                                                                                        \n",
      " cool        | 1                                                                                                                                                                                                                                                                                                                                                                                                                                                                                                                                                                                                                                                                                                                                                                                                                                                             \n",
      " date        | 2017-01-14 20:54:15                                                                                                                                                                                                                                                                                                                                                                                                                                                                                                                                                                                                                                                                                                                                                                                                                                           \n",
      " funny       | 0                                                                                                                                                                                                                                                                                                                                                                                                                                                                                                                                                                                                                                                                                                                                                                                                                                                             \n",
      " review_id   | Sx8TMOWLNuJBWer-0pcmoA                                                                                                                                                                                                                                                                                                                                                                                                                                                                                                                                                                                                                                                                                                                                                                                                                                        \n",
      " stars       | 4.0                                                                                                                                                                                                                                                                                                                                                                                                                                                                                                                                                                                                                                                                                                                                                                                                                                                           \n",
      " text        | Cute interior and owner (?) gave us tour of upcoming patio/rooftop area which will be great on beautiful days like today. Cheese curds were very good and very filling. Really like that sandwiches come w salad, esp after eating too many curds! Had the onion, gruyere, tomato sandwich. Wasn't too much cheese which I liked. Needed something else...pepper jelly maybe. Would like to see more menu options added such as salads w fun cheeses. Lots of beer and wine as well as limited cocktails. Next time I will try one of the draft wines.                                                                                                                                                                                                                                                                                                        \n",
      " useful      | 1                                                                                                                                                                                                                                                                                                                                                                                                                                                                                                                                                                                                                                                                                                                                                                                                                                                             \n",
      " user_id     | bcjbaE6dDog4jkNY91ncLQ                                                                                                                                                                                                                                                                                                                                                                                                                                                                                                                                                                                                                                                                                                                                                                                                                                        \n",
      "only showing top 5 rows\n",
      "\n"
     ]
    }
   ],
   "source": [
    "df.show(5, truncate=False, vertical=True)"
   ]
  },
  {
   "cell_type": "markdown",
   "metadata": {},
   "source": [
    "### Простые действия над DF\n",
    "Вспоминаем реляционку:\n",
    " * Проекция (`SELECT`) - подмножество столбцов\n",
    " * Фильтр (`WHERE`, `HAVING`) - подмножество строк."
   ]
  },
  {
   "cell_type": "code",
   "execution_count": 19,
   "metadata": {},
   "outputs": [
    {
     "data": {
      "text/plain": [
       "['business_id',\n",
       " 'cool',\n",
       " 'date',\n",
       " 'funny',\n",
       " 'review_id',\n",
       " 'stars',\n",
       " 'text',\n",
       " 'useful',\n",
       " 'user_id']"
      ]
     },
     "execution_count": 19,
     "metadata": {},
     "output_type": "execute_result"
    }
   ],
   "source": [
    "df.schema.fieldNames()"
   ]
  },
  {
   "cell_type": "markdown",
   "metadata": {},
   "source": [
    "#### Проекция"
   ]
  },
  {
   "cell_type": "code",
   "execution_count": 20,
   "metadata": {},
   "outputs": [
    {
     "name": "stdout",
     "output_type": "stream",
     "text": [
      "+--------------------+-----+--------------------+\n",
      "|         business_id|stars|                text|\n",
      "+--------------------+-----+--------------------+\n",
      "|XQfwVwDr-v0ZS3_Cb...|  3.0|If you decide to ...|\n",
      "|7ATYjTIgM3jUlt4UM...|  5.0|I've taken a lot ...|\n",
      "|YjUWPpI6HXG530lwP...|  3.0|Family diner. Had...|\n",
      "|kxX2SOes4o-D3ZQBk...|  5.0|Wow!  Yummy, diff...|\n",
      "|e4Vwtrqf-wpJfwesg...|  4.0|Cute interior and...|\n",
      "+--------------------+-----+--------------------+\n",
      "only showing top 5 rows\n",
      "\n"
     ]
    }
   ],
   "source": [
    "df.select([\"business_id\", \"stars\", \"text\"]).show(5)"
   ]
  },
  {
   "cell_type": "markdown",
   "metadata": {},
   "source": [
    "Аналог `df[df.columns[:3]]`"
   ]
  },
  {
   "cell_type": "code",
   "execution_count": 23,
   "metadata": {},
   "outputs": [
    {
     "data": {
      "text/plain": [
       "DataFrame[business_id: string, cool: bigint, date: string]"
      ]
     },
     "execution_count": 23,
     "metadata": {},
     "output_type": "execute_result"
    }
   ],
   "source": [
    "df.select(*df.schema.fieldNames()[:3]) # log_df[log_df.columns[:3]]"
   ]
  },
  {
   "cell_type": "code",
   "execution_count": 24,
   "metadata": {},
   "outputs": [
    {
     "data": {
      "text/plain": [
       "DataFrame[business_id: string, stars: double, text: string]"
      ]
     },
     "execution_count": 24,
     "metadata": {},
     "output_type": "execute_result"
    }
   ],
   "source": [
    "df.select(\"business_id\", \"stars\", \"text\")"
   ]
  },
  {
   "cell_type": "markdown",
   "metadata": {},
   "source": [
    "Это всё трансформации. На выходе получаем DF. "
   ]
  },
  {
   "cell_type": "code",
   "execution_count": 26,
   "metadata": {},
   "outputs": [
    {
     "name": "stdout",
     "output_type": "stream",
     "text": [
      "+--------------------+----+-------------------+-----+--------------------+-----+--------------------+------+--------------------+\n",
      "|         business_id|cool|               date|funny|           review_id|stars|                text|useful|             user_id|\n",
      "+--------------------+----+-------------------+-----+--------------------+-----+--------------------+------+--------------------+\n",
      "|7ATYjTIgM3jUlt4UM...|   1|2012-01-03 15:28:18|    0|BiTunyQ73aT9WBnpR...|  5.0|I've taken a lot ...|     1|OyoGAe7OKpv6SyGZT...|\n",
      "|kxX2SOes4o-D3ZQBk...|   1|2015-01-04 00:01:03|    0|AqPFMleE6RsU23_au...|  5.0|Wow!  Yummy, diff...|     1|_7bHUi9Uuf5__HHc_...|\n",
      "|gmjsEdUsKpj9Xxu6p...|   0|2015-01-03 23:21:18|    2|6AxgBCNX_PNTOxmbR...|  5.0|Loved this tour! ...|     0|r3zeYsv1XFBRA4dJp...|\n",
      "|LHSTtnW3YHCeUkRDG...|   0|2015-08-07 02:29:16|    0|_ZeMknuYdlQcUqng_...|  5.0|Amazingly amazing...|     2|yfFzsLmaWF2d4Sr0U...|\n",
      "|uMvVYRgGNXf5boolA...|   0|2015-06-21 14:48:06|    0|rGQRf8UafX7OTlMNN...|  5.0|My experience wit...|     2|1WHRWwQmZOZDAhp2Q...|\n",
      "+--------------------+----+-------------------+-----+--------------------+-----+--------------------+------+--------------------+\n",
      "only showing top 5 rows\n",
      "\n"
     ]
    }
   ],
   "source": [
    "df.where(\"stars > 4\").show(5) # SQL-like syntax"
   ]
  },
  {
   "cell_type": "code",
   "execution_count": 27,
   "metadata": {},
   "outputs": [
    {
     "name": "stdout",
     "output_type": "stream",
     "text": [
      "+--------------------+----+-------------------+-----+--------------------+-----+--------------------+------+--------------------+\n",
      "|         business_id|cool|               date|funny|           review_id|stars|                text|useful|             user_id|\n",
      "+--------------------+----+-------------------+-----+--------------------+-----+--------------------+------+--------------------+\n",
      "|7ATYjTIgM3jUlt4UM...|   1|2012-01-03 15:28:18|    0|BiTunyQ73aT9WBnpR...|  5.0|I've taken a lot ...|     1|OyoGAe7OKpv6SyGZT...|\n",
      "|kxX2SOes4o-D3ZQBk...|   1|2015-01-04 00:01:03|    0|AqPFMleE6RsU23_au...|  5.0|Wow!  Yummy, diff...|     1|_7bHUi9Uuf5__HHc_...|\n",
      "|gmjsEdUsKpj9Xxu6p...|   0|2015-01-03 23:21:18|    2|6AxgBCNX_PNTOxmbR...|  5.0|Loved this tour! ...|     0|r3zeYsv1XFBRA4dJp...|\n",
      "|LHSTtnW3YHCeUkRDG...|   0|2015-08-07 02:29:16|    0|_ZeMknuYdlQcUqng_...|  5.0|Amazingly amazing...|     2|yfFzsLmaWF2d4Sr0U...|\n",
      "|uMvVYRgGNXf5boolA...|   0|2015-06-21 14:48:06|    0|rGQRf8UafX7OTlMNN...|  5.0|My experience wit...|     2|1WHRWwQmZOZDAhp2Q...|\n",
      "+--------------------+----+-------------------+-----+--------------------+-----+--------------------+------+--------------------+\n",
      "only showing top 5 rows\n",
      "\n"
     ]
    }
   ],
   "source": [
    "df.filter(df.stars > 4).show(5) # df[df.stars > 4]"
   ]
  },
  {
   "cell_type": "code",
   "execution_count": 28,
   "metadata": {},
   "outputs": [
    {
     "name": "stdout",
     "output_type": "stream",
     "text": [
      "+--------------------+----+-------------------+-----+--------------------+-----+--------------------+------+--------------------+\n",
      "|         business_id|cool|               date|funny|           review_id|stars|                text|useful|             user_id|\n",
      "+--------------------+----+-------------------+-----+--------------------+-----+--------------------+------+--------------------+\n",
      "|7ATYjTIgM3jUlt4UM...|   1|2012-01-03 15:28:18|    0|BiTunyQ73aT9WBnpR...|  5.0|I've taken a lot ...|     1|OyoGAe7OKpv6SyGZT...|\n",
      "|LHSTtnW3YHCeUkRDG...|   0|2015-08-07 02:29:16|    0|_ZeMknuYdlQcUqng_...|  5.0|Amazingly amazing...|     2|yfFzsLmaWF2d4Sr0U...|\n",
      "|SZU9c8V2GuREDN5Kg...|   0|2016-05-31 02:14:54|    0|4zopEEPqfwm-c_FNp...|  5.0|We were a bit wea...|     0|JYYYKt6TdVA4ng9lL...|\n",
      "|EpREWeEpmR8f1qLHz...|   0|2011-11-30 06:58:36|    0|-up4mW6WdqzGrRh7t...|  5.0|After living in t...|     0|xbybLiQockAzC4xAl...|\n",
      "|5Ce3lZksYVkCbrihq...|   0|2014-07-25 17:56:26|    0|ymhbOMW63B_vGaRFR...|  5.0|I just started go...|     0|yZdAhQ_KmKuCZmbBy...|\n",
      "+--------------------+----+-------------------+-----+--------------------+-----+--------------------+------+--------------------+\n",
      "only showing top 5 rows\n",
      "\n"
     ]
    }
   ],
   "source": [
    "df.filter(\"stars > 4 AND text LIKE '%amazing%'\").show(5)"
   ]
  },
  {
   "cell_type": "code",
   "execution_count": 29,
   "metadata": {},
   "outputs": [
    {
     "name": "stdout",
     "output_type": "stream",
     "text": [
      "+--------------------+----+-------------------+-----+--------------------+-----+--------------------+------+--------------------+\n",
      "|         business_id|cool|               date|funny|           review_id|stars|                text|useful|             user_id|\n",
      "+--------------------+----+-------------------+-----+--------------------+-----+--------------------+------+--------------------+\n",
      "|7ATYjTIgM3jUlt4UM...|   1|2012-01-03 15:28:18|    0|BiTunyQ73aT9WBnpR...|  5.0|I've taken a lot ...|     1|OyoGAe7OKpv6SyGZT...|\n",
      "|LHSTtnW3YHCeUkRDG...|   0|2015-08-07 02:29:16|    0|_ZeMknuYdlQcUqng_...|  5.0|Amazingly amazing...|     2|yfFzsLmaWF2d4Sr0U...|\n",
      "|SZU9c8V2GuREDN5Kg...|   0|2016-05-31 02:14:54|    0|4zopEEPqfwm-c_FNp...|  5.0|We were a bit wea...|     0|JYYYKt6TdVA4ng9lL...|\n",
      "|EpREWeEpmR8f1qLHz...|   0|2011-11-30 06:58:36|    0|-up4mW6WdqzGrRh7t...|  5.0|After living in t...|     0|xbybLiQockAzC4xAl...|\n",
      "|5Ce3lZksYVkCbrihq...|   0|2014-07-25 17:56:26|    0|ymhbOMW63B_vGaRFR...|  5.0|I just started go...|     0|yZdAhQ_KmKuCZmbBy...|\n",
      "+--------------------+----+-------------------+-----+--------------------+-----+--------------------+------+--------------------+\n",
      "only showing top 5 rows\n",
      "\n"
     ]
    }
   ],
   "source": [
    "df.filter((df.stars > 4) & (df.text.like(\"%amazing%\"))).show(5)"
   ]
  },
  {
   "cell_type": "markdown",
   "metadata": {},
   "source": [
    "Переименуем некоторые поля"
   ]
  },
  {
   "cell_type": "code",
   "execution_count": 30,
   "metadata": {},
   "outputs": [
    {
     "name": "stdout",
     "output_type": "stream",
     "text": [
      "+--------------------+--------------------+\n",
      "|         business_id|              review|\n",
      "+--------------------+--------------------+\n",
      "|XQfwVwDr-v0ZS3_Cb...|If you decide to ...|\n",
      "|7ATYjTIgM3jUlt4UM...|I've taken a lot ...|\n",
      "|YjUWPpI6HXG530lwP...|Family diner. Had...|\n",
      "|kxX2SOes4o-D3ZQBk...|Wow!  Yummy, diff...|\n",
      "|e4Vwtrqf-wpJfwesg...|Cute interior and...|\n",
      "+--------------------+--------------------+\n",
      "only showing top 5 rows\n",
      "\n"
     ]
    }
   ],
   "source": [
    "df.select(df.business_id, df.text.alias(\"review\")).show(5)"
   ]
  },
  {
   "cell_type": "markdown",
   "metadata": {},
   "source": [
    "Можно взять название колонок через строковую переменную. Это может быть удобно тогда, когда название столбца очень сложное!"
   ]
  },
  {
   "cell_type": "code",
   "execution_count": 31,
   "metadata": {},
   "outputs": [
    {
     "name": "stdout",
     "output_type": "stream",
     "text": [
      "+--------------------+--------------------+\n",
      "|         business_id|              review|\n",
      "+--------------------+--------------------+\n",
      "|XQfwVwDr-v0ZS3_Cb...|If you decide to ...|\n",
      "|7ATYjTIgM3jUlt4UM...|I've taken a lot ...|\n",
      "|YjUWPpI6HXG530lwP...|Family diner. Had...|\n",
      "|kxX2SOes4o-D3ZQBk...|Wow!  Yummy, diff...|\n",
      "|e4Vwtrqf-wpJfwesg...|Cute interior and...|\n",
      "+--------------------+--------------------+\n",
      "only showing top 5 rows\n",
      "\n"
     ]
    }
   ],
   "source": [
    "import pyspark.sql.functions as f\n",
    "df.select(\"business_id\", f.col(\"text\").alias(\"review\")).show(5)"
   ]
  },
  {
   "cell_type": "code",
   "execution_count": 32,
   "metadata": {},
   "outputs": [
    {
     "name": "stdout",
     "output_type": "stream",
     "text": [
      "+--------------------+--------------------+\n",
      "|         business_id|                text|\n",
      "+--------------------+--------------------+\n",
      "|XQfwVwDr-v0ZS3_Cb...|If you decide to ...|\n",
      "|7ATYjTIgM3jUlt4UM...|I've taken a lot ...|\n",
      "|YjUWPpI6HXG530lwP...|Family diner. Had...|\n",
      "|kxX2SOes4o-D3ZQBk...|Wow!  Yummy, diff...|\n",
      "|e4Vwtrqf-wpJfwesg...|Cute interior and...|\n",
      "+--------------------+--------------------+\n",
      "only showing top 5 rows\n",
      "\n"
     ]
    }
   ],
   "source": [
    "df[df.business_id, \"text\"].show(5)"
   ]
  },
  {
   "cell_type": "markdown",
   "metadata": {},
   "source": [
    "Подключим механизм SQL! Для этого нам необходимо зарегистрировать таблицу"
   ]
  },
  {
   "cell_type": "code",
   "execution_count": 33,
   "metadata": {},
   "outputs": [],
   "source": [
    "df.registerTempTable(\"df\")"
   ]
  },
  {
   "cell_type": "code",
   "execution_count": 36,
   "metadata": {},
   "outputs": [],
   "source": [
    "query_str = \"\"\"\n",
    "SELECT count(*) as cnt, business_id FROM df\n",
    "GROUP BY business_id\n",
    "\"\"\""
   ]
  },
  {
   "cell_type": "code",
   "execution_count": 37,
   "metadata": {},
   "outputs": [
    {
     "name": "stdout",
     "output_type": "stream",
     "text": [
      "+---+--------------------+\n",
      "|cnt|         business_id|\n",
      "+---+--------------------+\n",
      "|111|2y_CdkxEOJEJGyJAp...|\n",
      "| 33|8PNKnlnJg6snf-HUg...|\n",
      "| 14|wS-SWAa_yaJAw6fJm...|\n",
      "| 38|skW4boArIApRw9DXK...|\n",
      "| 43|KBvdN8Apn4DIxuNW3...|\n",
      "+---+--------------------+\n",
      "only showing top 5 rows\n",
      "\n"
     ]
    }
   ],
   "source": [
    "spark.sql(query_str).show(5)"
   ]
  },
  {
   "cell_type": "markdown",
   "metadata": {},
   "source": [
    "# Объединение таблиц в Hive"
   ]
  },
  {
   "cell_type": "code",
   "execution_count": 38,
   "metadata": {},
   "outputs": [],
   "source": [
    "business = spark.read.json('/data/yelp/business')"
   ]
  },
  {
   "cell_type": "code",
   "execution_count": 39,
   "metadata": {},
   "outputs": [
    {
     "name": "stdout",
     "output_type": "stream",
     "text": [
      "+--------------------+--------------------+--------------------+--------------------+-------------+--------------------+-------+----------+------------+--------------------+-----------+------------+-----+-----+\n",
      "|             address|          attributes|         business_id|          categories|         city|               hours|is_open|  latitude|   longitude|                name|postal_code|review_count|stars|state|\n",
      "+--------------------+--------------------+--------------------+--------------------+-------------+--------------------+-------+----------+------------+--------------------+-----------+------------+-----+-----+\n",
      "|1616 Chapala St, ...|[,,,,,,,,,,, True...|Pns2l4eNsfO8kk83d...|Doctors, Traditio...|Santa Barbara|                null|      0|34.4266787|-119.7111968|Abby Rappoport, L...|      93101|           7|  5.0|   CA|\n",
      "|87 Grasso Plaza S...|[,,,,,,,,, True,,...|mpf3x-BjTdTEA3yCZ...|Shipping Centers,...|       Affton|[8:0-18:30, 0:0-0...|      1| 38.551126|  -90.335695|       The UPS Store|      63123|          15|  3.0|   MO|\n",
      "|5255 E Broadway Blvd|[,,,,,,, True,, T...|tUFrWirKiKi_TAnsV...|Department Stores...|       Tucson|[8:0-23:0, 8:0-22...|      0| 32.223236| -110.880452|              Target|      85711|          22|  3.5|   AZ|\n",
      "|         935 Race St|[,, u'none',,,,, ...|MTSW4McQd7CbVtyjq...|Restaurants, Food...| Philadelphia|[7:0-21:0, 7:0-20...|      1|39.9555052| -75.1555641|  St Honore Pastries|      19107|          80|  4.0|   PA|\n",
      "|       101 Walnut St|[,,,,,,, True,, T...|mWMc6_wTdE0EUBKIG...|Brewpubs, Breweri...|   Green Lane|[12:0-22:0,, 12:0...|      1|40.3381827| -75.4716585|Perkiomen Valley ...|      18054|          13|  4.5|   PA|\n",
      "+--------------------+--------------------+--------------------+--------------------+-------------+--------------------+-------+----------+------------+--------------------+-----------+------------+-----+-----+\n",
      "only showing top 5 rows\n",
      "\n"
     ]
    }
   ],
   "source": [
    "business.show(5)"
   ]
  },
  {
   "cell_type": "code",
   "execution_count": 40,
   "metadata": {},
   "outputs": [
    {
     "data": {
      "text/plain": [
       "150346"
      ]
     },
     "execution_count": 40,
     "metadata": {},
     "output_type": "execute_result"
    }
   ],
   "source": [
    "business.count()"
   ]
  },
  {
   "cell_type": "code",
   "execution_count": 41,
   "metadata": {},
   "outputs": [
    {
     "name": "stdout",
     "output_type": "stream",
     "text": [
      "+--------------------+----+-------------------+-----+--------------------+-----+--------------------+------+--------------------+\n",
      "|         business_id|cool|               date|funny|           review_id|stars|                text|useful|             user_id|\n",
      "+--------------------+----+-------------------+-----+--------------------+-----+--------------------+------+--------------------+\n",
      "|XQfwVwDr-v0ZS3_Cb...|   0|2018-07-07 22:09:11|    0|KU_O5udG6zpxOg-Vc...|  3.0|If you decide to ...|     0|mh_-eMZ6K5RLWhZyI...|\n",
      "|7ATYjTIgM3jUlt4UM...|   1|2012-01-03 15:28:18|    0|BiTunyQ73aT9WBnpR...|  5.0|I've taken a lot ...|     1|OyoGAe7OKpv6SyGZT...|\n",
      "|YjUWPpI6HXG530lwP...|   0|2014-02-05 20:30:30|    0|saUsX_uimxRlCVr67...|  3.0|Family diner. Had...|     0|8g_iMtfSiwikVnbP2...|\n",
      "|kxX2SOes4o-D3ZQBk...|   1|2015-01-04 00:01:03|    0|AqPFMleE6RsU23_au...|  5.0|Wow!  Yummy, diff...|     1|_7bHUi9Uuf5__HHc_...|\n",
      "|e4Vwtrqf-wpJfwesg...|   1|2017-01-14 20:54:15|    0|Sx8TMOWLNuJBWer-0...|  4.0|Cute interior and...|     1|bcjbaE6dDog4jkNY9...|\n",
      "+--------------------+----+-------------------+-----+--------------------+-----+--------------------+------+--------------------+\n",
      "only showing top 5 rows\n",
      "\n"
     ]
    }
   ],
   "source": [
    "df.show(5)"
   ]
  },
  {
   "cell_type": "code",
   "execution_count": 42,
   "metadata": {},
   "outputs": [
    {
     "name": "stdout",
     "output_type": "stream",
     "text": [
      "CPU times: user 0 ns, sys: 2.29 ms, total: 2.29 ms\n",
      "Wall time: 35.2 ms\n"
     ]
    }
   ],
   "source": [
    "%%time\n",
    "business_review = df.join(business, on='business_id', how='inner')"
   ]
  },
  {
   "cell_type": "markdown",
   "metadata": {},
   "source": [
    "Быстро? Почему?\n",
    "\n",
    "Это transformation!\n",
    "\n",
    "Посмотрим на план запроса!"
   ]
  },
  {
   "cell_type": "code",
   "execution_count": 44,
   "metadata": {},
   "outputs": [
    {
     "name": "stdout",
     "output_type": "stream",
     "text": [
      "== Physical Plan ==\n",
      "*(5) Project [business_id#783, cool#784L, date#785, funny#786L, review_id#787, stars#788, text#789, useful#790L, user_id#791, address#1181, attributes#1182, categories#1184, city#1185, hours#1186, is_open#1187L, latitude#1188, longitude#1189, name#1190, postal_code#1191, review_count#1192L, stars#1193, state#1194]\n",
      "+- *(5) SortMergeJoin [business_id#783], [business_id#1183], Inner\n",
      "   :- *(2) Sort [business_id#783 ASC NULLS FIRST], false, 0\n",
      "   :  +- Exchange hashpartitioning(business_id#783, 200), true, [id=#312]\n",
      "   :     +- *(1) Filter isnotnull(business_id#783)\n",
      "   :        +- *(1) Scan ExistingRDD[business_id#783,cool#784L,date#785,funny#786L,review_id#787,stars#788,text#789,useful#790L,user_id#791]\n",
      "   +- *(4) Sort [business_id#1183 ASC NULLS FIRST], false, 0\n",
      "      +- Exchange hashpartitioning(business_id#1183, 200), true, [id=#321]\n",
      "         +- *(3) Project [address#1181, attributes#1182, business_id#1183, categories#1184, city#1185, hours#1186, is_open#1187L, latitude#1188, longitude#1189, name#1190, postal_code#1191, review_count#1192L, stars#1193, state#1194]\n",
      "            +- *(3) Filter isnotnull(business_id#1183)\n",
      "               +- FileScan json [address#1181,attributes#1182,business_id#1183,categories#1184,city#1185,hours#1186,is_open#1187L,latitude#1188,longitude#1189,name#1190,postal_code#1191,review_count#1192L,stars#1193,state#1194] Batched: false, DataFilters: [isnotnull(business_id#1183)], Format: JSON, Location: InMemoryFileIndex[hdfs://rc1a-dataproc-m-w2g5u4kysb9kq1q0.mdb.yandexcloud.net/data/yelp/business], PartitionFilters: [], PushedFilters: [IsNotNull(business_id)], ReadSchema: struct<address:string,attributes:struct<AcceptsInsurance:string,AgesAllowed:string,Alcohol:string...\n",
      "\n",
      "\n"
     ]
    }
   ],
   "source": [
    "business_review.explain()"
   ]
  },
  {
   "cell_type": "code",
   "execution_count": 45,
   "metadata": {},
   "outputs": [
    {
     "name": "stdout",
     "output_type": "stream",
     "text": [
      "+--------------------+----+-------------------+-----+--------------------+-----+--------------------+------+--------------------+--------------------+--------------------+--------------------+----+--------------------+-------+----------+-----------+--------------------+-----------+------------+-----+-----+\n",
      "|         business_id|cool|               date|funny|           review_id|stars|                text|useful|             user_id|             address|          attributes|          categories|city|               hours|is_open|  latitude|  longitude|                name|postal_code|review_count|stars|state|\n",
      "+--------------------+----+-------------------+-----+--------------------+-----+--------------------+------+--------------------+--------------------+--------------------+--------------------+----+--------------------+-------+----------+-----------+--------------------+-----------+------------+-----+-----+\n",
      "|-0iIxySkp97WNlwK6...|   0|2018-03-23 18:26:15|    0|1eFR8S29TAYXPSW-q...|  5.0|Quick and fast. I...|     1|QXoao8vMzQq-Rvk5m...|538 S Virginia St...|[,, 'none', {'tou...|Caterers, Sandwic...|Reno|[6:45-15:30, 0:0-...|      1|39.5202401|-119.810022|Truckee Bagel Com...|      89501|         219|  3.5|   NV|\n",
      "|-0iIxySkp97WNlwK6...|   0|2016-10-13 21:20:04|    0|aiynuyOoyY35UobiW...|  5.0|great spot! not o...|     0|Es-x_L2mBlCDIaHVe...|538 S Virginia St...|[,, 'none', {'tou...|Caterers, Sandwic...|Reno|[6:45-15:30, 0:0-...|      1|39.5202401|-119.810022|Truckee Bagel Com...|      89501|         219|  3.5|   NV|\n",
      "|-0iIxySkp97WNlwK6...|   0|2017-08-16 14:25:47|    0|J5twtmFoaAKVa2TaF...|  2.0|Bagels ok! Maybe ...|     0|45RvpmpirRipiyY6G...|538 S Virginia St...|[,, 'none', {'tou...|Caterers, Sandwic...|Reno|[6:45-15:30, 0:0-...|      1|39.5202401|-119.810022|Truckee Bagel Com...|      89501|         219|  3.5|   NV|\n",
      "|-0iIxySkp97WNlwK6...|   0|2015-08-30 18:55:04|    0|RspZBNh6Xiaa88JK5...|  1.0|This is a huge le...|     1|Jn8AxOJ8Sht_qggeU...|538 S Virginia St...|[,, 'none', {'tou...|Caterers, Sandwic...|Reno|[6:45-15:30, 0:0-...|      1|39.5202401|-119.810022|Truckee Bagel Com...|      89501|         219|  3.5|   NV|\n",
      "|-0iIxySkp97WNlwK6...|   1|2015-10-08 20:32:56|    0|PHZYT_11JKWmP6JUz...|  2.0|I'm a fan of the ...|     0|9mBi_o4YTU9LfUUTN...|538 S Virginia St...|[,, 'none', {'tou...|Caterers, Sandwic...|Reno|[6:45-15:30, 0:0-...|      1|39.5202401|-119.810022|Truckee Bagel Com...|      89501|         219|  3.5|   NV|\n",
      "+--------------------+----+-------------------+-----+--------------------+-----+--------------------+------+--------------------+--------------------+--------------------+--------------------+----+--------------------+-------+----------+-----------+--------------------+-----------+------------+-----+-----+\n",
      "only showing top 5 rows\n",
      "\n"
     ]
    }
   ],
   "source": [
    "business_review.show(5)"
   ]
  },
  {
   "cell_type": "markdown",
   "metadata": {},
   "source": [
    "Посмотрим на количество партиций в RDD. Под капотом Spark SQL использует RDD"
   ]
  },
  {
   "cell_type": "code",
   "execution_count": 46,
   "metadata": {},
   "outputs": [
    {
     "data": {
      "text/plain": [
       "200"
      ]
     },
     "execution_count": 46,
     "metadata": {},
     "output_type": "execute_result"
    }
   ],
   "source": [
    "business_review.rdd.getNumPartitions()"
   ]
  },
  {
   "cell_type": "markdown",
   "metadata": {},
   "source": [
    "Поменяем способ JOIN на BroadcastHashJoin"
   ]
  },
  {
   "cell_type": "code",
   "execution_count": 63,
   "metadata": {},
   "outputs": [
    {
     "data": {
      "text/plain": [
       "DataFrame[address: string, attributes: struct<AcceptsInsurance:string,AgesAllowed:string,Alcohol:string,Ambience:string,BYOB:string,BYOBCorkage:string,BestNights:string,BikeParking:string,BusinessAcceptsBitcoin:string,BusinessAcceptsCreditCards:string,BusinessParking:string,ByAppointmentOnly:string,Caters:string,CoatCheck:string,Corkage:string,DietaryRestrictions:string,DogsAllowed:string,DriveThru:string,GoodForDancing:string,GoodForKids:string,GoodForMeal:string,HairSpecializesIn:string,HappyHour:string,HasTV:string,Music:string,NoiseLevel:string,Open24Hours:string,OutdoorSeating:string,RestaurantsAttire:string,RestaurantsCounterService:string,RestaurantsDelivery:string,RestaurantsGoodForGroups:string,RestaurantsPriceRange2:string,RestaurantsReservations:string,RestaurantsTableService:string,RestaurantsTakeOut:string,Smoking:string,WheelchairAccessible:string,WiFi:string>, business_id: string, categories: string, city: string, hours: struct<Friday:string,Monday:string,Saturday:string,Sunday:string,Thursday:string,Tuesday:string,Wednesday:string>, is_open: bigint, latitude: double, longitude: double, name: string, postal_code: string, review_count: bigint, state: string]"
      ]
     },
     "execution_count": 63,
     "metadata": {},
     "output_type": "execute_result"
    }
   ],
   "source": [
    "business.drop('stars')"
   ]
  },
  {
   "cell_type": "code",
   "execution_count": 64,
   "metadata": {},
   "outputs": [
    {
     "name": "stdout",
     "output_type": "stream",
     "text": [
      "== Physical Plan ==\n",
      "*(2) Project [business_id#783, cool#784L, date#785, funny#786L, review_id#787, stars#788, text#789, useful#790L, user_id#791, address#1181, attributes#1182, categories#1184, city#1185, hours#1186, is_open#1187L, latitude#1188, longitude#1189, name#1190, postal_code#1191, review_count#1192L, state#1194]\n",
      "+- *(2) BroadcastHashJoin [business_id#783], [business_id#1183], Inner, BuildRight\n",
      "   :- *(2) Filter isnotnull(business_id#783)\n",
      "   :  +- *(2) Scan ExistingRDD[business_id#783,cool#784L,date#785,funny#786L,review_id#787,stars#788,text#789,useful#790L,user_id#791]\n",
      "   +- BroadcastExchange HashedRelationBroadcastMode(List(input[2, string, true])), [id=#750]\n",
      "      +- *(1) Project [address#1181, attributes#1182, business_id#1183, categories#1184, city#1185, hours#1186, is_open#1187L, latitude#1188, longitude#1189, name#1190, postal_code#1191, review_count#1192L, state#1194]\n",
      "         +- *(1) Filter isnotnull(business_id#1183)\n",
      "            +- FileScan json [address#1181,attributes#1182,business_id#1183,categories#1184,city#1185,hours#1186,is_open#1187L,latitude#1188,longitude#1189,name#1190,postal_code#1191,review_count#1192L,state#1194] Batched: false, DataFilters: [isnotnull(business_id#1183)], Format: JSON, Location: InMemoryFileIndex[hdfs://rc1a-dataproc-m-w2g5u4kysb9kq1q0.mdb.yandexcloud.net/data/yelp/business], PartitionFilters: [], PushedFilters: [IsNotNull(business_id)], ReadSchema: struct<address:string,attributes:struct<AcceptsInsurance:string,AgesAllowed:string,Alcohol:string...\n",
      "\n",
      "\n"
     ]
    }
   ],
   "source": [
    "spark.sql(\"SET spark.sql.autoBroadcastJoinThreshold = 10\")\n",
    "business_review_new = df.join(f.broadcast(business.drop('stars')), on='business_id', how='inner')\n",
    "business_review_new.explain()"
   ]
  },
  {
   "cell_type": "markdown",
   "metadata": {},
   "source": [
    "Узнаем количество партиций"
   ]
  },
  {
   "cell_type": "code",
   "execution_count": 65,
   "metadata": {},
   "outputs": [
    {
     "data": {
      "text/plain": [
       "20"
      ]
     },
     "execution_count": 65,
     "metadata": {},
     "output_type": "execute_result"
    }
   ],
   "source": [
    "business_review_new.rdd.getNumPartitions()"
   ]
  },
  {
   "cell_type": "markdown",
   "metadata": {},
   "source": [
    "Количество партиций уменьшилось - используются партиции для таблицы review"
   ]
  },
  {
   "cell_type": "code",
   "execution_count": 66,
   "metadata": {},
   "outputs": [
    {
     "name": "stdout",
     "output_type": "stream",
     "text": [
      "-RECORD 0----------------------------\n",
      " business_id  | XQfwVwDr-v0ZS3_Cb... \n",
      " cool         | 0                    \n",
      " date         | 2018-07-07 22:09:11  \n",
      " funny        | 0                    \n",
      " review_id    | KU_O5udG6zpxOg-Vc... \n",
      " stars        | 3.0                  \n",
      " text         | If you decide to ... \n",
      " useful       | 0                    \n",
      " user_id      | mh_-eMZ6K5RLWhZyI... \n",
      " address      | 1460 Bethlehem Pike  \n",
      " attributes   | [,, 'none', {'tou... \n",
      " categories   | Restaurants, Brea... \n",
      " city         | North Wales          \n",
      " hours        | [7:30-15:0, 7:30-... \n",
      " is_open      | 1                    \n",
      " latitude     | 40.2101961875        \n",
      " longitude    | -75.2236385919       \n",
      " name         | Turning Point of ... \n",
      " postal_code  | 19454                \n",
      " review_count | 169                  \n",
      " state        | PA                   \n",
      "-RECORD 1----------------------------\n",
      " business_id  | 7ATYjTIgM3jUlt4UM... \n",
      " cool         | 1                    \n",
      " date         | 2012-01-03 15:28:18  \n",
      " funny        | 0                    \n",
      " review_id    | BiTunyQ73aT9WBnpR... \n",
      " stars        | 5.0                  \n",
      " text         | I've taken a lot ... \n",
      " useful       | 1                    \n",
      " user_id      | OyoGAe7OKpv6SyGZT... \n",
      " address      | 1923 Chestnut St,... \n",
      " attributes   | [,,,,,,, True,, T... \n",
      " categories   | Active Life, Cycl... \n",
      " city         | Philadelphia         \n",
      " hours        | [6:0-19:30, 6:30-... \n",
      " is_open      | 0                    \n",
      " latitude     | 39.9521029           \n",
      " longitude    | -75.1727526          \n",
      " name         | Body Cycle Spinni... \n",
      " postal_code  | 19119                \n",
      " review_count | 144                  \n",
      " state        | PA                   \n",
      "-RECORD 2----------------------------\n",
      " business_id  | YjUWPpI6HXG530lwP... \n",
      " cool         | 0                    \n",
      " date         | 2014-02-05 20:30:30  \n",
      " funny        | 0                    \n",
      " review_id    | saUsX_uimxRlCVr67... \n",
      " stars        | 3.0                  \n",
      " text         | Family diner. Had... \n",
      " useful       | 0                    \n",
      " user_id      | 8g_iMtfSiwikVnbP2... \n",
      " address      | 748 W Starr Pass ... \n",
      " attributes   | [,, u'none', {'ro... \n",
      " categories   | Restaurants, Brea... \n",
      " city         | Tucson               \n",
      " hours        | null                 \n",
      " is_open      | 1                    \n",
      " latitude     | 32.2072326           \n",
      " longitude    | -110.9808639         \n",
      " name         | Kettle Restaurant    \n",
      " postal_code  | 85713                \n",
      " review_count | 47                   \n",
      " state        | AZ                   \n",
      "-RECORD 3----------------------------\n",
      " business_id  | kxX2SOes4o-D3ZQBk... \n",
      " cool         | 1                    \n",
      " date         | 2015-01-04 00:01:03  \n",
      " funny        | 0                    \n",
      " review_id    | AqPFMleE6RsU23_au... \n",
      " stars        | 5.0                  \n",
      " text         | Wow!  Yummy, diff... \n",
      " useful       | 1                    \n",
      " user_id      | _7bHUi9Uuf5__HHc_... \n",
      " address      | 2481 Grant Ave       \n",
      " attributes   | [,, u'none', {'ro... \n",
      " categories   | Halal, Pakistani,... \n",
      " city         | Philadelphia         \n",
      " hours        | [11:0-22:0,, 11:0... \n",
      " is_open      | 1                    \n",
      " latitude     | 40.0798480557        \n",
      " longitude    | -75.025079772        \n",
      " name         | Zaika                \n",
      " postal_code  | 19114                \n",
      " review_count | 181                  \n",
      " state        | PA                   \n",
      "-RECORD 4----------------------------\n",
      " business_id  | e4Vwtrqf-wpJfwesg... \n",
      " cool         | 1                    \n",
      " date         | 2017-01-14 20:54:15  \n",
      " funny        | 0                    \n",
      " review_id    | Sx8TMOWLNuJBWer-0... \n",
      " stars        | 4.0                  \n",
      " text         | Cute interior and... \n",
      " useful       | 1                    \n",
      " user_id      | bcjbaE6dDog4jkNY9... \n",
      " address      | 2549 Banks St        \n",
      " attributes   | [,, u'full_bar', ... \n",
      " categories   | Sandwiches, Beer,... \n",
      " city         | New Orleans          \n",
      " hours        | [11:0-17:0, 0:0-0... \n",
      " is_open      | 0                    \n",
      " latitude     | 29.962102            \n",
      " longitude    | -90.087958           \n",
      " name         | Melt                 \n",
      " postal_code  | 70119                \n",
      " review_count | 32                   \n",
      " state        | LA                   \n",
      "only showing top 5 rows\n",
      "\n"
     ]
    }
   ],
   "source": [
    "business_review_new.show(5, vertical=True)"
   ]
  },
  {
   "cell_type": "markdown",
   "metadata": {},
   "source": [
    "Посчитаем среднюю оценку"
   ]
  },
  {
   "cell_type": "code",
   "execution_count": 67,
   "metadata": {},
   "outputs": [
    {
     "name": "stdout",
     "output_type": "stream",
     "text": [
      "+--------------------+------------------+\n",
      "|         business_id|        avg(stars)|\n",
      "+--------------------+------------------+\n",
      "|SDhiF9UG0gsuaXgCn...|4.5588235294117645|\n",
      "|eXMfOA7nAh3dlLgyw...| 4.228310502283105|\n",
      "|h_6ioAoKNLi01kPho...|               2.0|\n",
      "|eG-XKCjF8VwxM_SH9...|3.8333333333333335|\n",
      "|bncTqUdA8ZPcUkDDm...| 3.747967479674797|\n",
      "+--------------------+------------------+\n",
      "only showing top 5 rows\n",
      "\n"
     ]
    }
   ],
   "source": [
    "business_review_new.groupby('business_id').agg(\n",
    "    f.avg('stars')\n",
    ").show(5)"
   ]
  },
  {
   "cell_type": "markdown",
   "metadata": {},
   "source": [
    "Посчитаем количество review по разным регионам"
   ]
  },
  {
   "cell_type": "code",
   "execution_count": 68,
   "metadata": {},
   "outputs": [
    {
     "name": "stdout",
     "output_type": "stream",
     "text": [
      "+-----+------+\n",
      "|state| count|\n",
      "+-----+------+\n",
      "|   AZ|431708|\n",
      "|   LA|761673|\n",
      "|   NJ|260897|\n",
      "|   MI|    11|\n",
      "|   NV|430678|\n",
      "+-----+------+\n",
      "only showing top 5 rows\n",
      "\n"
     ]
    }
   ],
   "source": [
    "business_review_new.groupby('state').count().distinct().show(5)"
   ]
  },
  {
   "cell_type": "code",
   "execution_count": 71,
   "metadata": {},
   "outputs": [],
   "source": [
    "result = business_review_new.groupby('city').count().distinct()"
   ]
  },
  {
   "cell_type": "code",
   "execution_count": 72,
   "metadata": {},
   "outputs": [
    {
     "name": "stdout",
     "output_type": "stream",
     "text": [
      "+-------------+-----+\n",
      "|         city|count|\n",
      "+-------------+-----+\n",
      "| Harleysville| 2640|\n",
      "|  Merion Park|    7|\n",
      "|   Westampton|  822|\n",
      "|    Worcester|  154|\n",
      "|        Bucks|   79|\n",
      "|St.Pete Beach|   10|\n",
      "|      MARLTON|   12|\n",
      "|  AB Edmonton|    6|\n",
      "|     TAMPA AP|   18|\n",
      "|  Springfield|11686|\n",
      "+-------------+-----+\n",
      "only showing top 10 rows\n",
      "\n"
     ]
    }
   ],
   "source": [
    "result.show(10)"
   ]
  },
  {
   "cell_type": "markdown",
   "metadata": {},
   "source": [
    "Запишем результаты в таблицу"
   ]
  },
  {
   "cell_type": "code",
   "execution_count": 73,
   "metadata": {},
   "outputs": [],
   "source": [
    "result.write.csv(\"business_review_counts.tsv\", sep='\\t', mode='overwrite')"
   ]
  },
  {
   "cell_type": "markdown",
   "metadata": {},
   "source": [
    "Посмотрим содержимое записей"
   ]
  },
  {
   "cell_type": "code",
   "execution_count": 74,
   "metadata": {},
   "outputs": [
    {
     "name": "stdout",
     "output_type": "stream",
     "text": [
      "Found 201 items\r\n",
      "-rw-r--r--   1 ubuntu ubuntu          0 2023-08-14 15:09 business_review_counts.tsv/_SUCCESS\r\n",
      "-rw-r--r--   1 ubuntu ubuntu        124 2023-08-14 15:09 business_review_counts.tsv/part-00000-31501751-6d6d-471a-bfbb-b035ab0f32b6-c000.csv\r\n",
      "-rw-r--r--   1 ubuntu ubuntu        125 2023-08-14 15:09 business_review_counts.tsv/part-00001-31501751-6d6d-471a-bfbb-b035ab0f32b6-c000.csv\r\n",
      "-rw-r--r--   1 ubuntu ubuntu        141 2023-08-14 15:09 business_review_counts.tsv/part-00002-31501751-6d6d-471a-bfbb-b035ab0f32b6-c000.csv\r\n",
      "-rw-r--r--   1 ubuntu ubuntu        112 2023-08-14 15:09 business_review_counts.tsv/part-00003-31501751-6d6d-471a-bfbb-b035ab0f32b6-c000.csv\r\n",
      "-rw-r--r--   1 ubuntu ubuntu        104 2023-08-14 15:09 business_review_counts.tsv/part-00004-31501751-6d6d-471a-bfbb-b035ab0f32b6-c000.csv\r\n",
      "-rw-r--r--   1 ubuntu ubuntu         84 2023-08-14 15:09 business_review_counts.tsv/part-00005-31501751-6d6d-471a-bfbb-b035ab0f32b6-c000.csv\r\n",
      "-rw-r--r--   1 ubuntu ubuntu        146 2023-08-14 15:09 business_review_counts.tsv/part-00006-31501751-6d6d-471a-bfbb-b035ab0f32b6-c000.csv\r\n",
      "-rw-r--r--   1 ubuntu ubuntu         77 2023-08-14 15:09 business_review_counts.tsv/part-00007-31501751-6d6d-471a-bfbb-b035ab0f32b6-c000.csv\r\n",
      "-rw-r--r--   1 ubuntu ubuntu         58 2023-08-14 15:09 business_review_counts.tsv/part-00008-31501751-6d6d-471a-bfbb-b035ab0f32b6-c000.csv\r\n",
      "-rw-r--r--   1 ubuntu ubuntu        143 2023-08-14 15:09 business_review_counts.tsv/part-00009-31501751-6d6d-471a-bfbb-b035ab0f32b6-c000.csv\r\n",
      "-rw-r--r--   1 ubuntu ubuntu        103 2023-08-14 15:09 business_review_counts.tsv/part-00010-31501751-6d6d-471a-bfbb-b035ab0f32b6-c000.csv\r\n",
      "-rw-r--r--   1 ubuntu ubuntu        172 2023-08-14 15:09 business_review_counts.tsv/part-00011-31501751-6d6d-471a-bfbb-b035ab0f32b6-c000.csv\r\n",
      "-rw-r--r--   1 ubuntu ubuntu        100 2023-08-14 15:09 business_review_counts.tsv/part-00012-31501751-6d6d-471a-bfbb-b035ab0f32b6-c000.csv\r\n",
      "-rw-r--r--   1 ubuntu ubuntu        153 2023-08-14 15:09 business_review_counts.tsv/part-00013-31501751-6d6d-471a-bfbb-b035ab0f32b6-c000.csv\r\n",
      "-rw-r--r--   1 ubuntu ubuntu        127 2023-08-14 15:09 business_review_counts.tsv/part-00014-31501751-6d6d-471a-bfbb-b035ab0f32b6-c000.csv\r\n",
      "-rw-r--r--   1 ubuntu ubuntu        142 2023-08-14 15:09 business_review_counts.tsv/part-00015-31501751-6d6d-471a-bfbb-b035ab0f32b6-c000.csv\r\n",
      "-rw-r--r--   1 ubuntu ubuntu        102 2023-08-14 15:09 business_review_counts.tsv/part-00016-31501751-6d6d-471a-bfbb-b035ab0f32b6-c000.csv\r\n",
      "-rw-r--r--   1 ubuntu ubuntu         98 2023-08-14 15:09 business_review_counts.tsv/part-00017-31501751-6d6d-471a-bfbb-b035ab0f32b6-c000.csv\r\n",
      "-rw-r--r--   1 ubuntu ubuntu        108 2023-08-14 15:09 business_review_counts.tsv/part-00018-31501751-6d6d-471a-bfbb-b035ab0f32b6-c000.csv\r\n",
      "-rw-r--r--   1 ubuntu ubuntu        101 2023-08-14 15:09 business_review_counts.tsv/part-00019-31501751-6d6d-471a-bfbb-b035ab0f32b6-c000.csv\r\n",
      "-rw-r--r--   1 ubuntu ubuntu        155 2023-08-14 15:09 business_review_counts.tsv/part-00020-31501751-6d6d-471a-bfbb-b035ab0f32b6-c000.csv\r\n",
      "-rw-r--r--   1 ubuntu ubuntu        162 2023-08-14 15:09 business_review_counts.tsv/part-00021-31501751-6d6d-471a-bfbb-b035ab0f32b6-c000.csv\r\n",
      "-rw-r--r--   1 ubuntu ubuntu         73 2023-08-14 15:09 business_review_counts.tsv/part-00022-31501751-6d6d-471a-bfbb-b035ab0f32b6-c000.csv\r\n",
      "-rw-r--r--   1 ubuntu ubuntu         79 2023-08-14 15:09 business_review_counts.tsv/part-00023-31501751-6d6d-471a-bfbb-b035ab0f32b6-c000.csv\r\n",
      "-rw-r--r--   1 ubuntu ubuntu        111 2023-08-14 15:09 business_review_counts.tsv/part-00024-31501751-6d6d-471a-bfbb-b035ab0f32b6-c000.csv\r\n",
      "-rw-r--r--   1 ubuntu ubuntu        115 2023-08-14 15:09 business_review_counts.tsv/part-00025-31501751-6d6d-471a-bfbb-b035ab0f32b6-c000.csv\r\n",
      "-rw-r--r--   1 ubuntu ubuntu         79 2023-08-14 15:09 business_review_counts.tsv/part-00026-31501751-6d6d-471a-bfbb-b035ab0f32b6-c000.csv\r\n",
      "-rw-r--r--   1 ubuntu ubuntu        107 2023-08-14 15:09 business_review_counts.tsv/part-00027-31501751-6d6d-471a-bfbb-b035ab0f32b6-c000.csv\r\n",
      "-rw-r--r--   1 ubuntu ubuntu        147 2023-08-14 15:09 business_review_counts.tsv/part-00028-31501751-6d6d-471a-bfbb-b035ab0f32b6-c000.csv\r\n",
      "-rw-r--r--   1 ubuntu ubuntu         73 2023-08-14 15:09 business_review_counts.tsv/part-00029-31501751-6d6d-471a-bfbb-b035ab0f32b6-c000.csv\r\n",
      "-rw-r--r--   1 ubuntu ubuntu         41 2023-08-14 15:09 business_review_counts.tsv/part-00030-31501751-6d6d-471a-bfbb-b035ab0f32b6-c000.csv\r\n",
      "-rw-r--r--   1 ubuntu ubuntu         76 2023-08-14 15:09 business_review_counts.tsv/part-00031-31501751-6d6d-471a-bfbb-b035ab0f32b6-c000.csv\r\n",
      "-rw-r--r--   1 ubuntu ubuntu         54 2023-08-14 15:09 business_review_counts.tsv/part-00032-31501751-6d6d-471a-bfbb-b035ab0f32b6-c000.csv\r\n",
      "-rw-r--r--   1 ubuntu ubuntu        166 2023-08-14 15:09 business_review_counts.tsv/part-00033-31501751-6d6d-471a-bfbb-b035ab0f32b6-c000.csv\r\n",
      "-rw-r--r--   1 ubuntu ubuntu         28 2023-08-14 15:09 business_review_counts.tsv/part-00034-31501751-6d6d-471a-bfbb-b035ab0f32b6-c000.csv\r\n",
      "-rw-r--r--   1 ubuntu ubuntu         73 2023-08-14 15:09 business_review_counts.tsv/part-00035-31501751-6d6d-471a-bfbb-b035ab0f32b6-c000.csv\r\n",
      "-rw-r--r--   1 ubuntu ubuntu         72 2023-08-14 15:09 business_review_counts.tsv/part-00036-31501751-6d6d-471a-bfbb-b035ab0f32b6-c000.csv\r\n",
      "-rw-r--r--   1 ubuntu ubuntu         97 2023-08-14 15:09 business_review_counts.tsv/part-00037-31501751-6d6d-471a-bfbb-b035ab0f32b6-c000.csv\r\n",
      "-rw-r--r--   1 ubuntu ubuntu        129 2023-08-14 15:09 business_review_counts.tsv/part-00038-31501751-6d6d-471a-bfbb-b035ab0f32b6-c000.csv\r\n",
      "-rw-r--r--   1 ubuntu ubuntu         82 2023-08-14 15:09 business_review_counts.tsv/part-00039-31501751-6d6d-471a-bfbb-b035ab0f32b6-c000.csv\r\n",
      "-rw-r--r--   1 ubuntu ubuntu        119 2023-08-14 15:09 business_review_counts.tsv/part-00040-31501751-6d6d-471a-bfbb-b035ab0f32b6-c000.csv\r\n",
      "-rw-r--r--   1 ubuntu ubuntu         57 2023-08-14 15:09 business_review_counts.tsv/part-00041-31501751-6d6d-471a-bfbb-b035ab0f32b6-c000.csv\r\n",
      "-rw-r--r--   1 ubuntu ubuntu        120 2023-08-14 15:09 business_review_counts.tsv/part-00042-31501751-6d6d-471a-bfbb-b035ab0f32b6-c000.csv\r\n",
      "-rw-r--r--   1 ubuntu ubuntu        174 2023-08-14 15:09 business_review_counts.tsv/part-00043-31501751-6d6d-471a-bfbb-b035ab0f32b6-c000.csv\r\n",
      "-rw-r--r--   1 ubuntu ubuntu        119 2023-08-14 15:09 business_review_counts.tsv/part-00044-31501751-6d6d-471a-bfbb-b035ab0f32b6-c000.csv\r\n",
      "-rw-r--r--   1 ubuntu ubuntu         52 2023-08-14 15:09 business_review_counts.tsv/part-00045-31501751-6d6d-471a-bfbb-b035ab0f32b6-c000.csv\r\n",
      "-rw-r--r--   1 ubuntu ubuntu         48 2023-08-14 15:09 business_review_counts.tsv/part-00046-31501751-6d6d-471a-bfbb-b035ab0f32b6-c000.csv\r\n",
      "-rw-r--r--   1 ubuntu ubuntu        177 2023-08-14 15:09 business_review_counts.tsv/part-00047-31501751-6d6d-471a-bfbb-b035ab0f32b6-c000.csv\r\n",
      "-rw-r--r--   1 ubuntu ubuntu         87 2023-08-14 15:09 business_review_counts.tsv/part-00048-31501751-6d6d-471a-bfbb-b035ab0f32b6-c000.csv\r\n",
      "-rw-r--r--   1 ubuntu ubuntu        115 2023-08-14 15:09 business_review_counts.tsv/part-00049-31501751-6d6d-471a-bfbb-b035ab0f32b6-c000.csv\r\n",
      "-rw-r--r--   1 ubuntu ubuntu         52 2023-08-14 15:09 business_review_counts.tsv/part-00050-31501751-6d6d-471a-bfbb-b035ab0f32b6-c000.csv\r\n",
      "-rw-r--r--   1 ubuntu ubuntu         78 2023-08-14 15:09 business_review_counts.tsv/part-00051-31501751-6d6d-471a-bfbb-b035ab0f32b6-c000.csv\r\n",
      "-rw-r--r--   1 ubuntu ubuntu        107 2023-08-14 15:09 business_review_counts.tsv/part-00052-31501751-6d6d-471a-bfbb-b035ab0f32b6-c000.csv\r\n",
      "-rw-r--r--   1 ubuntu ubuntu        156 2023-08-14 15:09 business_review_counts.tsv/part-00053-31501751-6d6d-471a-bfbb-b035ab0f32b6-c000.csv\r\n",
      "-rw-r--r--   1 ubuntu ubuntu        105 2023-08-14 15:09 business_review_counts.tsv/part-00054-31501751-6d6d-471a-bfbb-b035ab0f32b6-c000.csv\r\n",
      "-rw-r--r--   1 ubuntu ubuntu         97 2023-08-14 15:09 business_review_counts.tsv/part-00055-31501751-6d6d-471a-bfbb-b035ab0f32b6-c000.csv\r\n",
      "-rw-r--r--   1 ubuntu ubuntu        135 2023-08-14 15:09 business_review_counts.tsv/part-00056-31501751-6d6d-471a-bfbb-b035ab0f32b6-c000.csv\r\n",
      "-rw-r--r--   1 ubuntu ubuntu        138 2023-08-14 15:09 business_review_counts.tsv/part-00057-31501751-6d6d-471a-bfbb-b035ab0f32b6-c000.csv\r\n",
      "-rw-r--r--   1 ubuntu ubuntu         92 2023-08-14 15:09 business_review_counts.tsv/part-00058-31501751-6d6d-471a-bfbb-b035ab0f32b6-c000.csv\r\n",
      "-rw-r--r--   1 ubuntu ubuntu         76 2023-08-14 15:09 business_review_counts.tsv/part-00059-31501751-6d6d-471a-bfbb-b035ab0f32b6-c000.csv\r\n",
      "-rw-r--r--   1 ubuntu ubuntu        165 2023-08-14 15:09 business_review_counts.tsv/part-00060-31501751-6d6d-471a-bfbb-b035ab0f32b6-c000.csv\r\n",
      "-rw-r--r--   1 ubuntu ubuntu        109 2023-08-14 15:09 business_review_counts.tsv/part-00061-31501751-6d6d-471a-bfbb-b035ab0f32b6-c000.csv\r\n",
      "-rw-r--r--   1 ubuntu ubuntu         53 2023-08-14 15:09 business_review_counts.tsv/part-00062-31501751-6d6d-471a-bfbb-b035ab0f32b6-c000.csv\r\n",
      "-rw-r--r--   1 ubuntu ubuntu        158 2023-08-14 15:09 business_review_counts.tsv/part-00063-31501751-6d6d-471a-bfbb-b035ab0f32b6-c000.csv\r\n",
      "-rw-r--r--   1 ubuntu ubuntu         79 2023-08-14 15:09 business_review_counts.tsv/part-00064-31501751-6d6d-471a-bfbb-b035ab0f32b6-c000.csv\r\n",
      "-rw-r--r--   1 ubuntu ubuntu         55 2023-08-14 15:09 business_review_counts.tsv/part-00065-31501751-6d6d-471a-bfbb-b035ab0f32b6-c000.csv\r\n",
      "-rw-r--r--   1 ubuntu ubuntu        119 2023-08-14 15:09 business_review_counts.tsv/part-00066-31501751-6d6d-471a-bfbb-b035ab0f32b6-c000.csv\r\n",
      "-rw-r--r--   1 ubuntu ubuntu        177 2023-08-14 15:09 business_review_counts.tsv/part-00067-31501751-6d6d-471a-bfbb-b035ab0f32b6-c000.csv\r\n",
      "-rw-r--r--   1 ubuntu ubuntu        155 2023-08-14 15:09 business_review_counts.tsv/part-00068-31501751-6d6d-471a-bfbb-b035ab0f32b6-c000.csv\r\n",
      "-rw-r--r--   1 ubuntu ubuntu        209 2023-08-14 15:09 business_review_counts.tsv/part-00069-31501751-6d6d-471a-bfbb-b035ab0f32b6-c000.csv\r\n",
      "-rw-r--r--   1 ubuntu ubuntu        102 2023-08-14 15:09 business_review_counts.tsv/part-00070-31501751-6d6d-471a-bfbb-b035ab0f32b6-c000.csv\r\n",
      "-rw-r--r--   1 ubuntu ubuntu         41 2023-08-14 15:09 business_review_counts.tsv/part-00071-31501751-6d6d-471a-bfbb-b035ab0f32b6-c000.csv\r\n",
      "-rw-r--r--   1 ubuntu ubuntu        144 2023-08-14 15:09 business_review_counts.tsv/part-00072-31501751-6d6d-471a-bfbb-b035ab0f32b6-c000.csv\r\n",
      "-rw-r--r--   1 ubuntu ubuntu        199 2023-08-14 15:09 business_review_counts.tsv/part-00073-31501751-6d6d-471a-bfbb-b035ab0f32b6-c000.csv\r\n",
      "-rw-r--r--   1 ubuntu ubuntu         64 2023-08-14 15:09 business_review_counts.tsv/part-00074-31501751-6d6d-471a-bfbb-b035ab0f32b6-c000.csv\r\n",
      "-rw-r--r--   1 ubuntu ubuntu        105 2023-08-14 15:09 business_review_counts.tsv/part-00075-31501751-6d6d-471a-bfbb-b035ab0f32b6-c000.csv\r\n",
      "-rw-r--r--   1 ubuntu ubuntu        108 2023-08-14 15:09 business_review_counts.tsv/part-00076-31501751-6d6d-471a-bfbb-b035ab0f32b6-c000.csv\r\n",
      "-rw-r--r--   1 ubuntu ubuntu        176 2023-08-14 15:09 business_review_counts.tsv/part-00077-31501751-6d6d-471a-bfbb-b035ab0f32b6-c000.csv\r\n",
      "-rw-r--r--   1 ubuntu ubuntu         37 2023-08-14 15:09 business_review_counts.tsv/part-00078-31501751-6d6d-471a-bfbb-b035ab0f32b6-c000.csv\r\n",
      "-rw-r--r--   1 ubuntu ubuntu        121 2023-08-14 15:09 business_review_counts.tsv/part-00079-31501751-6d6d-471a-bfbb-b035ab0f32b6-c000.csv\r\n",
      "-rw-r--r--   1 ubuntu ubuntu         77 2023-08-14 15:09 business_review_counts.tsv/part-00080-31501751-6d6d-471a-bfbb-b035ab0f32b6-c000.csv\r\n",
      "-rw-r--r--   1 ubuntu ubuntu         57 2023-08-14 15:09 business_review_counts.tsv/part-00081-31501751-6d6d-471a-bfbb-b035ab0f32b6-c000.csv\r\n",
      "-rw-r--r--   1 ubuntu ubuntu         84 2023-08-14 15:09 business_review_counts.tsv/part-00082-31501751-6d6d-471a-bfbb-b035ab0f32b6-c000.csv\r\n",
      "-rw-r--r--   1 ubuntu ubuntu         34 2023-08-14 15:09 business_review_counts.tsv/part-00083-31501751-6d6d-471a-bfbb-b035ab0f32b6-c000.csv\r\n",
      "-rw-r--r--   1 ubuntu ubuntu        137 2023-08-14 15:09 business_review_counts.tsv/part-00084-31501751-6d6d-471a-bfbb-b035ab0f32b6-c000.csv\r\n",
      "-rw-r--r--   1 ubuntu ubuntu         94 2023-08-14 15:09 business_review_counts.tsv/part-00085-31501751-6d6d-471a-bfbb-b035ab0f32b6-c000.csv\r\n",
      "-rw-r--r--   1 ubuntu ubuntu        131 2023-08-14 15:09 business_review_counts.tsv/part-00086-31501751-6d6d-471a-bfbb-b035ab0f32b6-c000.csv\r\n",
      "-rw-r--r--   1 ubuntu ubuntu        175 2023-08-14 15:09 business_review_counts.tsv/part-00087-31501751-6d6d-471a-bfbb-b035ab0f32b6-c000.csv\r\n",
      "-rw-r--r--   1 ubuntu ubuntu        122 2023-08-14 15:09 business_review_counts.tsv/part-00088-31501751-6d6d-471a-bfbb-b035ab0f32b6-c000.csv\r\n",
      "-rw-r--r--   1 ubuntu ubuntu        164 2023-08-14 15:09 business_review_counts.tsv/part-00089-31501751-6d6d-471a-bfbb-b035ab0f32b6-c000.csv\r\n",
      "-rw-r--r--   1 ubuntu ubuntu         28 2023-08-14 15:09 business_review_counts.tsv/part-00090-31501751-6d6d-471a-bfbb-b035ab0f32b6-c000.csv\r\n",
      "-rw-r--r--   1 ubuntu ubuntu         73 2023-08-14 15:09 business_review_counts.tsv/part-00091-31501751-6d6d-471a-bfbb-b035ab0f32b6-c000.csv\r\n",
      "-rw-r--r--   1 ubuntu ubuntu         47 2023-08-14 15:09 business_review_counts.tsv/part-00092-31501751-6d6d-471a-bfbb-b035ab0f32b6-c000.csv\r\n",
      "-rw-r--r--   1 ubuntu ubuntu        120 2023-08-14 15:09 business_review_counts.tsv/part-00093-31501751-6d6d-471a-bfbb-b035ab0f32b6-c000.csv\r\n",
      "-rw-r--r--   1 ubuntu ubuntu         42 2023-08-14 15:09 business_review_counts.tsv/part-00094-31501751-6d6d-471a-bfbb-b035ab0f32b6-c000.csv\r\n",
      "-rw-r--r--   1 ubuntu ubuntu         93 2023-08-14 15:09 business_review_counts.tsv/part-00095-31501751-6d6d-471a-bfbb-b035ab0f32b6-c000.csv\r\n",
      "-rw-r--r--   1 ubuntu ubuntu        152 2023-08-14 15:09 business_review_counts.tsv/part-00096-31501751-6d6d-471a-bfbb-b035ab0f32b6-c000.csv\r\n",
      "-rw-r--r--   1 ubuntu ubuntu        112 2023-08-14 15:09 business_review_counts.tsv/part-00097-31501751-6d6d-471a-bfbb-b035ab0f32b6-c000.csv\r\n",
      "-rw-r--r--   1 ubuntu ubuntu        142 2023-08-14 15:09 business_review_counts.tsv/part-00098-31501751-6d6d-471a-bfbb-b035ab0f32b6-c000.csv\r\n",
      "-rw-r--r--   1 ubuntu ubuntu        103 2023-08-14 15:09 business_review_counts.tsv/part-00099-31501751-6d6d-471a-bfbb-b035ab0f32b6-c000.csv\r\n",
      "-rw-r--r--   1 ubuntu ubuntu         75 2023-08-14 15:09 business_review_counts.tsv/part-00100-31501751-6d6d-471a-bfbb-b035ab0f32b6-c000.csv\r\n",
      "-rw-r--r--   1 ubuntu ubuntu        142 2023-08-14 15:09 business_review_counts.tsv/part-00101-31501751-6d6d-471a-bfbb-b035ab0f32b6-c000.csv\r\n",
      "-rw-r--r--   1 ubuntu ubuntu         27 2023-08-14 15:09 business_review_counts.tsv/part-00102-31501751-6d6d-471a-bfbb-b035ab0f32b6-c000.csv\r\n",
      "-rw-r--r--   1 ubuntu ubuntu         38 2023-08-14 15:09 business_review_counts.tsv/part-00103-31501751-6d6d-471a-bfbb-b035ab0f32b6-c000.csv\r\n",
      "-rw-r--r--   1 ubuntu ubuntu         25 2023-08-14 15:09 business_review_counts.tsv/part-00104-31501751-6d6d-471a-bfbb-b035ab0f32b6-c000.csv\r\n",
      "-rw-r--r--   1 ubuntu ubuntu        144 2023-08-14 15:09 business_review_counts.tsv/part-00105-31501751-6d6d-471a-bfbb-b035ab0f32b6-c000.csv\r\n",
      "-rw-r--r--   1 ubuntu ubuntu         26 2023-08-14 15:09 business_review_counts.tsv/part-00106-31501751-6d6d-471a-bfbb-b035ab0f32b6-c000.csv\r\n",
      "-rw-r--r--   1 ubuntu ubuntu        164 2023-08-14 15:09 business_review_counts.tsv/part-00107-31501751-6d6d-471a-bfbb-b035ab0f32b6-c000.csv\r\n",
      "-rw-r--r--   1 ubuntu ubuntu         75 2023-08-14 15:09 business_review_counts.tsv/part-00108-31501751-6d6d-471a-bfbb-b035ab0f32b6-c000.csv\r\n",
      "-rw-r--r--   1 ubuntu ubuntu         98 2023-08-14 15:09 business_review_counts.tsv/part-00109-31501751-6d6d-471a-bfbb-b035ab0f32b6-c000.csv\r\n",
      "-rw-r--r--   1 ubuntu ubuntu        134 2023-08-14 15:09 business_review_counts.tsv/part-00110-31501751-6d6d-471a-bfbb-b035ab0f32b6-c000.csv\r\n",
      "-rw-r--r--   1 ubuntu ubuntu         69 2023-08-14 15:09 business_review_counts.tsv/part-00111-31501751-6d6d-471a-bfbb-b035ab0f32b6-c000.csv\r\n",
      "-rw-r--r--   1 ubuntu ubuntu         68 2023-08-14 15:09 business_review_counts.tsv/part-00112-31501751-6d6d-471a-bfbb-b035ab0f32b6-c000.csv\r\n",
      "-rw-r--r--   1 ubuntu ubuntu        103 2023-08-14 15:09 business_review_counts.tsv/part-00113-31501751-6d6d-471a-bfbb-b035ab0f32b6-c000.csv\r\n",
      "-rw-r--r--   1 ubuntu ubuntu        148 2023-08-14 15:09 business_review_counts.tsv/part-00114-31501751-6d6d-471a-bfbb-b035ab0f32b6-c000.csv\r\n",
      "-rw-r--r--   1 ubuntu ubuntu        133 2023-08-14 15:09 business_review_counts.tsv/part-00115-31501751-6d6d-471a-bfbb-b035ab0f32b6-c000.csv\r\n",
      "-rw-r--r--   1 ubuntu ubuntu         53 2023-08-14 15:09 business_review_counts.tsv/part-00116-31501751-6d6d-471a-bfbb-b035ab0f32b6-c000.csv\r\n",
      "-rw-r--r--   1 ubuntu ubuntu         58 2023-08-14 15:09 business_review_counts.tsv/part-00117-31501751-6d6d-471a-bfbb-b035ab0f32b6-c000.csv\r\n",
      "-rw-r--r--   1 ubuntu ubuntu        117 2023-08-14 15:09 business_review_counts.tsv/part-00118-31501751-6d6d-471a-bfbb-b035ab0f32b6-c000.csv\r\n",
      "-rw-r--r--   1 ubuntu ubuntu         94 2023-08-14 15:09 business_review_counts.tsv/part-00119-31501751-6d6d-471a-bfbb-b035ab0f32b6-c000.csv\r\n",
      "-rw-r--r--   1 ubuntu ubuntu        148 2023-08-14 15:09 business_review_counts.tsv/part-00120-31501751-6d6d-471a-bfbb-b035ab0f32b6-c000.csv\r\n",
      "-rw-r--r--   1 ubuntu ubuntu         77 2023-08-14 15:09 business_review_counts.tsv/part-00121-31501751-6d6d-471a-bfbb-b035ab0f32b6-c000.csv\r\n",
      "-rw-r--r--   1 ubuntu ubuntu         97 2023-08-14 15:09 business_review_counts.tsv/part-00122-31501751-6d6d-471a-bfbb-b035ab0f32b6-c000.csv\r\n",
      "-rw-r--r--   1 ubuntu ubuntu        109 2023-08-14 15:09 business_review_counts.tsv/part-00123-31501751-6d6d-471a-bfbb-b035ab0f32b6-c000.csv\r\n",
      "-rw-r--r--   1 ubuntu ubuntu         93 2023-08-14 15:09 business_review_counts.tsv/part-00124-31501751-6d6d-471a-bfbb-b035ab0f32b6-c000.csv\r\n",
      "-rw-r--r--   1 ubuntu ubuntu        200 2023-08-14 15:09 business_review_counts.tsv/part-00125-31501751-6d6d-471a-bfbb-b035ab0f32b6-c000.csv\r\n",
      "-rw-r--r--   1 ubuntu ubuntu         92 2023-08-14 15:09 business_review_counts.tsv/part-00126-31501751-6d6d-471a-bfbb-b035ab0f32b6-c000.csv\r\n",
      "-rw-r--r--   1 ubuntu ubuntu         60 2023-08-14 15:09 business_review_counts.tsv/part-00127-31501751-6d6d-471a-bfbb-b035ab0f32b6-c000.csv\r\n",
      "-rw-r--r--   1 ubuntu ubuntu        123 2023-08-14 15:09 business_review_counts.tsv/part-00128-31501751-6d6d-471a-bfbb-b035ab0f32b6-c000.csv\r\n",
      "-rw-r--r--   1 ubuntu ubuntu        120 2023-08-14 15:09 business_review_counts.tsv/part-00129-31501751-6d6d-471a-bfbb-b035ab0f32b6-c000.csv\r\n",
      "-rw-r--r--   1 ubuntu ubuntu        163 2023-08-14 15:09 business_review_counts.tsv/part-00130-31501751-6d6d-471a-bfbb-b035ab0f32b6-c000.csv\r\n",
      "-rw-r--r--   1 ubuntu ubuntu        151 2023-08-14 15:09 business_review_counts.tsv/part-00131-31501751-6d6d-471a-bfbb-b035ab0f32b6-c000.csv\r\n",
      "-rw-r--r--   1 ubuntu ubuntu         80 2023-08-14 15:09 business_review_counts.tsv/part-00132-31501751-6d6d-471a-bfbb-b035ab0f32b6-c000.csv\r\n",
      "-rw-r--r--   1 ubuntu ubuntu        105 2023-08-14 15:09 business_review_counts.tsv/part-00133-31501751-6d6d-471a-bfbb-b035ab0f32b6-c000.csv\r\n",
      "-rw-r--r--   1 ubuntu ubuntu        103 2023-08-14 15:09 business_review_counts.tsv/part-00134-31501751-6d6d-471a-bfbb-b035ab0f32b6-c000.csv\r\n",
      "-rw-r--r--   1 ubuntu ubuntu        125 2023-08-14 15:09 business_review_counts.tsv/part-00135-31501751-6d6d-471a-bfbb-b035ab0f32b6-c000.csv\r\n",
      "-rw-r--r--   1 ubuntu ubuntu        119 2023-08-14 15:09 business_review_counts.tsv/part-00136-31501751-6d6d-471a-bfbb-b035ab0f32b6-c000.csv\r\n",
      "-rw-r--r--   1 ubuntu ubuntu         93 2023-08-14 15:09 business_review_counts.tsv/part-00137-31501751-6d6d-471a-bfbb-b035ab0f32b6-c000.csv\r\n",
      "-rw-r--r--   1 ubuntu ubuntu         83 2023-08-14 15:09 business_review_counts.tsv/part-00138-31501751-6d6d-471a-bfbb-b035ab0f32b6-c000.csv\r\n",
      "-rw-r--r--   1 ubuntu ubuntu        107 2023-08-14 15:09 business_review_counts.tsv/part-00139-31501751-6d6d-471a-bfbb-b035ab0f32b6-c000.csv\r\n",
      "-rw-r--r--   1 ubuntu ubuntu        122 2023-08-14 15:09 business_review_counts.tsv/part-00140-31501751-6d6d-471a-bfbb-b035ab0f32b6-c000.csv\r\n",
      "-rw-r--r--   1 ubuntu ubuntu        157 2023-08-14 15:09 business_review_counts.tsv/part-00141-31501751-6d6d-471a-bfbb-b035ab0f32b6-c000.csv\r\n",
      "-rw-r--r--   1 ubuntu ubuntu        146 2023-08-14 15:09 business_review_counts.tsv/part-00142-31501751-6d6d-471a-bfbb-b035ab0f32b6-c000.csv\r\n",
      "-rw-r--r--   1 ubuntu ubuntu        113 2023-08-14 15:09 business_review_counts.tsv/part-00143-31501751-6d6d-471a-bfbb-b035ab0f32b6-c000.csv\r\n",
      "-rw-r--r--   1 ubuntu ubuntu        123 2023-08-14 15:09 business_review_counts.tsv/part-00144-31501751-6d6d-471a-bfbb-b035ab0f32b6-c000.csv\r\n",
      "-rw-r--r--   1 ubuntu ubuntu        211 2023-08-14 15:09 business_review_counts.tsv/part-00145-31501751-6d6d-471a-bfbb-b035ab0f32b6-c000.csv\r\n",
      "-rw-r--r--   1 ubuntu ubuntu        114 2023-08-14 15:09 business_review_counts.tsv/part-00146-31501751-6d6d-471a-bfbb-b035ab0f32b6-c000.csv\r\n",
      "-rw-r--r--   1 ubuntu ubuntu        110 2023-08-14 15:09 business_review_counts.tsv/part-00147-31501751-6d6d-471a-bfbb-b035ab0f32b6-c000.csv\r\n",
      "-rw-r--r--   1 ubuntu ubuntu         88 2023-08-14 15:09 business_review_counts.tsv/part-00148-31501751-6d6d-471a-bfbb-b035ab0f32b6-c000.csv\r\n",
      "-rw-r--r--   1 ubuntu ubuntu        120 2023-08-14 15:09 business_review_counts.tsv/part-00149-31501751-6d6d-471a-bfbb-b035ab0f32b6-c000.csv\r\n",
      "-rw-r--r--   1 ubuntu ubuntu         30 2023-08-14 15:09 business_review_counts.tsv/part-00150-31501751-6d6d-471a-bfbb-b035ab0f32b6-c000.csv\r\n",
      "-rw-r--r--   1 ubuntu ubuntu        104 2023-08-14 15:09 business_review_counts.tsv/part-00151-31501751-6d6d-471a-bfbb-b035ab0f32b6-c000.csv\r\n",
      "-rw-r--r--   1 ubuntu ubuntu        188 2023-08-14 15:09 business_review_counts.tsv/part-00152-31501751-6d6d-471a-bfbb-b035ab0f32b6-c000.csv\r\n",
      "-rw-r--r--   1 ubuntu ubuntu         82 2023-08-14 15:09 business_review_counts.tsv/part-00153-31501751-6d6d-471a-bfbb-b035ab0f32b6-c000.csv\r\n",
      "-rw-r--r--   1 ubuntu ubuntu        108 2023-08-14 15:09 business_review_counts.tsv/part-00154-31501751-6d6d-471a-bfbb-b035ab0f32b6-c000.csv\r\n",
      "-rw-r--r--   1 ubuntu ubuntu        107 2023-08-14 15:09 business_review_counts.tsv/part-00155-31501751-6d6d-471a-bfbb-b035ab0f32b6-c000.csv\r\n",
      "-rw-r--r--   1 ubuntu ubuntu        142 2023-08-14 15:09 business_review_counts.tsv/part-00156-31501751-6d6d-471a-bfbb-b035ab0f32b6-c000.csv\r\n",
      "-rw-r--r--   1 ubuntu ubuntu         76 2023-08-14 15:09 business_review_counts.tsv/part-00157-31501751-6d6d-471a-bfbb-b035ab0f32b6-c000.csv\r\n",
      "-rw-r--r--   1 ubuntu ubuntu        101 2023-08-14 15:09 business_review_counts.tsv/part-00158-31501751-6d6d-471a-bfbb-b035ab0f32b6-c000.csv\r\n",
      "-rw-r--r--   1 ubuntu ubuntu        113 2023-08-14 15:09 business_review_counts.tsv/part-00159-31501751-6d6d-471a-bfbb-b035ab0f32b6-c000.csv\r\n",
      "-rw-r--r--   1 ubuntu ubuntu         99 2023-08-14 15:09 business_review_counts.tsv/part-00160-31501751-6d6d-471a-bfbb-b035ab0f32b6-c000.csv\r\n",
      "-rw-r--r--   1 ubuntu ubuntu         57 2023-08-14 15:09 business_review_counts.tsv/part-00161-31501751-6d6d-471a-bfbb-b035ab0f32b6-c000.csv\r\n",
      "-rw-r--r--   1 ubuntu ubuntu        153 2023-08-14 15:09 business_review_counts.tsv/part-00162-31501751-6d6d-471a-bfbb-b035ab0f32b6-c000.csv\r\n",
      "-rw-r--r--   1 ubuntu ubuntu        125 2023-08-14 15:09 business_review_counts.tsv/part-00163-31501751-6d6d-471a-bfbb-b035ab0f32b6-c000.csv\r\n",
      "-rw-r--r--   1 ubuntu ubuntu        122 2023-08-14 15:09 business_review_counts.tsv/part-00164-31501751-6d6d-471a-bfbb-b035ab0f32b6-c000.csv\r\n",
      "-rw-r--r--   1 ubuntu ubuntu        165 2023-08-14 15:09 business_review_counts.tsv/part-00165-31501751-6d6d-471a-bfbb-b035ab0f32b6-c000.csv\r\n",
      "-rw-r--r--   1 ubuntu ubuntu         72 2023-08-14 15:09 business_review_counts.tsv/part-00166-31501751-6d6d-471a-bfbb-b035ab0f32b6-c000.csv\r\n",
      "-rw-r--r--   1 ubuntu ubuntu        220 2023-08-14 15:09 business_review_counts.tsv/part-00167-31501751-6d6d-471a-bfbb-b035ab0f32b6-c000.csv\r\n",
      "-rw-r--r--   1 ubuntu ubuntu         40 2023-08-14 15:09 business_review_counts.tsv/part-00168-31501751-6d6d-471a-bfbb-b035ab0f32b6-c000.csv\r\n",
      "-rw-r--r--   1 ubuntu ubuntu        195 2023-08-14 15:09 business_review_counts.tsv/part-00169-31501751-6d6d-471a-bfbb-b035ab0f32b6-c000.csv\r\n",
      "-rw-r--r--   1 ubuntu ubuntu         62 2023-08-14 15:09 business_review_counts.tsv/part-00170-31501751-6d6d-471a-bfbb-b035ab0f32b6-c000.csv\r\n",
      "-rw-r--r--   1 ubuntu ubuntu        125 2023-08-14 15:09 business_review_counts.tsv/part-00171-31501751-6d6d-471a-bfbb-b035ab0f32b6-c000.csv\r\n",
      "-rw-r--r--   1 ubuntu ubuntu        117 2023-08-14 15:09 business_review_counts.tsv/part-00172-31501751-6d6d-471a-bfbb-b035ab0f32b6-c000.csv\r\n",
      "-rw-r--r--   1 ubuntu ubuntu         37 2023-08-14 15:09 business_review_counts.tsv/part-00173-31501751-6d6d-471a-bfbb-b035ab0f32b6-c000.csv\r\n",
      "-rw-r--r--   1 ubuntu ubuntu         55 2023-08-14 15:09 business_review_counts.tsv/part-00174-31501751-6d6d-471a-bfbb-b035ab0f32b6-c000.csv\r\n",
      "-rw-r--r--   1 ubuntu ubuntu         43 2023-08-14 15:09 business_review_counts.tsv/part-00175-31501751-6d6d-471a-bfbb-b035ab0f32b6-c000.csv\r\n",
      "-rw-r--r--   1 ubuntu ubuntu        171 2023-08-14 15:09 business_review_counts.tsv/part-00176-31501751-6d6d-471a-bfbb-b035ab0f32b6-c000.csv\r\n",
      "-rw-r--r--   1 ubuntu ubuntu        105 2023-08-14 15:09 business_review_counts.tsv/part-00177-31501751-6d6d-471a-bfbb-b035ab0f32b6-c000.csv\r\n",
      "-rw-r--r--   1 ubuntu ubuntu        216 2023-08-14 15:09 business_review_counts.tsv/part-00178-31501751-6d6d-471a-bfbb-b035ab0f32b6-c000.csv\r\n",
      "-rw-r--r--   1 ubuntu ubuntu        100 2023-08-14 15:09 business_review_counts.tsv/part-00179-31501751-6d6d-471a-bfbb-b035ab0f32b6-c000.csv\r\n",
      "-rw-r--r--   1 ubuntu ubuntu         77 2023-08-14 15:09 business_review_counts.tsv/part-00180-31501751-6d6d-471a-bfbb-b035ab0f32b6-c000.csv\r\n",
      "-rw-r--r--   1 ubuntu ubuntu        124 2023-08-14 15:09 business_review_counts.tsv/part-00181-31501751-6d6d-471a-bfbb-b035ab0f32b6-c000.csv\r\n",
      "-rw-r--r--   1 ubuntu ubuntu         63 2023-08-14 15:09 business_review_counts.tsv/part-00182-31501751-6d6d-471a-bfbb-b035ab0f32b6-c000.csv\r\n",
      "-rw-r--r--   1 ubuntu ubuntu        100 2023-08-14 15:09 business_review_counts.tsv/part-00183-31501751-6d6d-471a-bfbb-b035ab0f32b6-c000.csv\r\n",
      "-rw-r--r--   1 ubuntu ubuntu        162 2023-08-14 15:09 business_review_counts.tsv/part-00184-31501751-6d6d-471a-bfbb-b035ab0f32b6-c000.csv\r\n",
      "-rw-r--r--   1 ubuntu ubuntu         51 2023-08-14 15:09 business_review_counts.tsv/part-00185-31501751-6d6d-471a-bfbb-b035ab0f32b6-c000.csv\r\n",
      "-rw-r--r--   1 ubuntu ubuntu        112 2023-08-14 15:09 business_review_counts.tsv/part-00186-31501751-6d6d-471a-bfbb-b035ab0f32b6-c000.csv\r\n",
      "-rw-r--r--   1 ubuntu ubuntu        155 2023-08-14 15:09 business_review_counts.tsv/part-00187-31501751-6d6d-471a-bfbb-b035ab0f32b6-c000.csv\r\n",
      "-rw-r--r--   1 ubuntu ubuntu         61 2023-08-14 15:09 business_review_counts.tsv/part-00188-31501751-6d6d-471a-bfbb-b035ab0f32b6-c000.csv\r\n",
      "-rw-r--r--   1 ubuntu ubuntu        210 2023-08-14 15:09 business_review_counts.tsv/part-00189-31501751-6d6d-471a-bfbb-b035ab0f32b6-c000.csv\r\n",
      "-rw-r--r--   1 ubuntu ubuntu        145 2023-08-14 15:09 business_review_counts.tsv/part-00190-31501751-6d6d-471a-bfbb-b035ab0f32b6-c000.csv\r\n",
      "-rw-r--r--   1 ubuntu ubuntu         55 2023-08-14 15:09 business_review_counts.tsv/part-00191-31501751-6d6d-471a-bfbb-b035ab0f32b6-c000.csv\r\n",
      "-rw-r--r--   1 ubuntu ubuntu        151 2023-08-14 15:09 business_review_counts.tsv/part-00192-31501751-6d6d-471a-bfbb-b035ab0f32b6-c000.csv\r\n",
      "-rw-r--r--   1 ubuntu ubuntu         66 2023-08-14 15:09 business_review_counts.tsv/part-00193-31501751-6d6d-471a-bfbb-b035ab0f32b6-c000.csv\r\n",
      "-rw-r--r--   1 ubuntu ubuntu         69 2023-08-14 15:09 business_review_counts.tsv/part-00194-31501751-6d6d-471a-bfbb-b035ab0f32b6-c000.csv\r\n",
      "-rw-r--r--   1 ubuntu ubuntu        101 2023-08-14 15:09 business_review_counts.tsv/part-00195-31501751-6d6d-471a-bfbb-b035ab0f32b6-c000.csv\r\n",
      "-rw-r--r--   1 ubuntu ubuntu         93 2023-08-14 15:09 business_review_counts.tsv/part-00196-31501751-6d6d-471a-bfbb-b035ab0f32b6-c000.csv\r\n",
      "-rw-r--r--   1 ubuntu ubuntu         95 2023-08-14 15:09 business_review_counts.tsv/part-00197-31501751-6d6d-471a-bfbb-b035ab0f32b6-c000.csv\r\n",
      "-rw-r--r--   1 ubuntu ubuntu         73 2023-08-14 15:09 business_review_counts.tsv/part-00198-31501751-6d6d-471a-bfbb-b035ab0f32b6-c000.csv\r\n",
      "-rw-r--r--   1 ubuntu ubuntu         97 2023-08-14 15:09 business_review_counts.tsv/part-00199-31501751-6d6d-471a-bfbb-b035ab0f32b6-c000.csv\r\n"
     ]
    }
   ],
   "source": [
    "! hdfs dfs -ls business_review_counts.tsv"
   ]
  },
  {
   "cell_type": "markdown",
   "metadata": {},
   "source": [
    "Это - директория! В Spark все хранится в виде директорий"
   ]
  },
  {
   "cell_type": "markdown",
   "metadata": {},
   "source": [
    "# Оконные функции"
   ]
  },
  {
   "cell_type": "code",
   "execution_count": null,
   "metadata": {},
   "outputs": [],
   "source": [
    "SELECT business_id, user_id, useful,\n",
    "LEAD(useful) OVER (PARTITION BY business_id ORDER BY useful DESC),\n",
    "RANK() OVER (PARTITION BY business_id ORDER BY useful DESC)\n",
    "LIMIT 10;"
   ]
  },
  {
   "cell_type": "code",
   "execution_count": 78,
   "metadata": {},
   "outputs": [
    {
     "name": "stdout",
     "output_type": "stream",
     "text": [
      "+--------------------+--------------------+----+\n",
      "|         business_id|             user_id|rank|\n",
      "+--------------------+--------------------+----+\n",
      "|-0iIxySkp97WNlwK6...|gVO3VZwCu54Otc7bU...|   1|\n",
      "|-0iIxySkp97WNlwK6...|vHc-UrI9yfL_pnnc6...|   2|\n",
      "|-0iIxySkp97WNlwK6...|lRRVRehFcudfbjY6y...|   3|\n",
      "|-0iIxySkp97WNlwK6...|DFTYFXMBLiuvxJFz7...|   4|\n",
      "|-0iIxySkp97WNlwK6...|14WeUBavXkLZg-p_H...|   5|\n",
      "+--------------------+--------------------+----+\n",
      "only showing top 5 rows\n",
      "\n"
     ]
    }
   ],
   "source": [
    "from pyspark.sql import Window\n",
    "\n",
    "df.select(\"business_id\", \"user_id\", 'useful', f.rank().over(\n",
    "    Window.partitionBy('business_id').orderBy(f.col('useful').desc())\n",
    ").alias('rank')).show(5)"
   ]
  },
  {
   "cell_type": "code",
   "execution_count": 80,
   "metadata": {},
   "outputs": [
    {
     "name": "stdout",
     "output_type": "stream",
     "text": [
      "+--------------------+--------------------+------+----+\n",
      "|         business_id|             user_id|useful|rank|\n",
      "+--------------------+--------------------+------+----+\n",
      "|-0iIxySkp97WNlwK6...|gVO3VZwCu54Otc7bU...|    15|   1|\n",
      "|-0iIxySkp97WNlwK6...|vHc-UrI9yfL_pnnc6...|    14|   2|\n",
      "|-0iIxySkp97WNlwK6...|lRRVRehFcudfbjY6y...|    12|   3|\n",
      "|-1dARtemb2Gy7Xlft...|mFpYLLmAKx8TOoLF2...|     1|   1|\n",
      "|-1dARtemb2Gy7Xlft...|lENqldomRlPzN9qhm...|     0|   2|\n",
      "+--------------------+--------------------+------+----+\n",
      "only showing top 5 rows\n",
      "\n"
     ]
    }
   ],
   "source": [
    "df.select(\"business_id\", \"user_id\", 'useful', f.rank().over(\n",
    "    Window.partitionBy('business_id').orderBy(f.col('useful').desc())\n",
    ").alias('rank')).where('rank <= 3').show(5)"
   ]
  },
  {
   "cell_type": "markdown",
   "metadata": {
    "collapsed": true
   },
   "source": [
    "# Итоги"
   ]
  },
  {
   "cell_type": "markdown",
   "metadata": {},
   "source": [
    "1. Spark SQL использует обертку в виде SparkSession\n",
    "2. Spark автоматически подхватывает схему в случае JSON, в случае чтения CSV-данных необходимо указывать схему данных.\n",
    "3. Spark SQL оперирует DataFrame-ом с бесконечным количеством столбцов\n",
    "4. Spark SQL позволяет удобным образом делать преобразования над столбцами после JOIN.\n",
    "5. Spark SQL упрощает взаимодействие с оконными функциями!"
   ]
  }
 ],
 "metadata": {
  "kernelspec": {
   "display_name": "Python 3",
   "language": "python",
   "name": "python3"
  },
  "language_info": {
   "codemirror_mode": {
    "name": "ipython",
    "version": 3
   },
   "file_extension": ".py",
   "mimetype": "text/x-python",
   "name": "python",
   "nbconvert_exporter": "python",
   "pygments_lexer": "ipython3",
   "version": "3.8.10"
  }
 },
 "nbformat": 4,
 "nbformat_minor": 2
}
